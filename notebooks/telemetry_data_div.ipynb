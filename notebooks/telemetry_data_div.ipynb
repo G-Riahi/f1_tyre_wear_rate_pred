{
 "cells": [
  {
   "cell_type": "code",
   "execution_count": 1,
   "metadata": {},
   "outputs": [],
   "source": [
    "from pyspark.sql import SparkSession\n",
    "from pyspark.sql.functions import row_number, floor, split, col, when, sum\n",
    "from pyspark.sql.window import Window\n",
    "from pyspark.sql.functions import col, lag, lead, when, avg\n",
    "import re\n",
    "import os\n",
    "import shutil\n",
    "from concurrent.futures import ThreadPoolExecutor"
   ]
  },
  {
   "cell_type": "markdown",
   "metadata": {},
   "source": [
    "data transformation/cleaning == done\n",
    "data splitting: in progress\n",
    "data loading to AWS S3 or Azure data lake: Next"
   ]
  },
  {
   "cell_type": "code",
   "execution_count": 2,
   "metadata": {},
   "outputs": [
    {
     "name": "stderr",
     "output_type": "stream",
     "text": [
      "25/04/27 21:50:43 WARN Utils: Your hostname, gesser-ASUS-TUF-Gaming-F15-FX506HM-FX506HM resolves to a loopback address: 127.0.1.1; using 192.168.1.56 instead (on interface wlo1)\n",
      "25/04/27 21:50:43 WARN Utils: Set SPARK_LOCAL_IP if you need to bind to another address\n",
      "Setting default log level to \"WARN\".\n",
      "To adjust logging level use sc.setLogLevel(newLevel). For SparkR, use setLogLevel(newLevel).\n",
      "25/04/27 21:50:44 WARN NativeCodeLoader: Unable to load native-hadoop library for your platform... using builtin-java classes where applicable\n"
     ]
    }
   ],
   "source": [
    "spark = SparkSession.builder \\\n",
    "    .appName(\"TelemetryProcessing\") \\\n",
    "    .config(\"spark.driver.memory\", \"8g\") \\\n",
    "    .config(\"spark.executor.memory\", \"8g\") \\\n",
    "    .getOrCreate()"
   ]
  },
  {
   "cell_type": "markdown",
   "metadata": {},
   "source": [
    "# experimenting with data transformation"
   ]
  },
  {
   "cell_type": "markdown",
   "metadata": {},
   "source": [
    "15525718781239906836 : Hanoi"
   ]
  },
  {
   "cell_type": "code",
   "execution_count": 64,
   "metadata": {},
   "outputs": [
    {
     "name": "stderr",
     "output_type": "stream",
     "text": [
      "                                                                                \r"
     ]
    },
    {
     "name": "stdout",
     "output_type": "stream",
     "text": [
      "+-----------+---------------+-----------+--------------+--------------+--------------+--------------+--------------+--------------+----------------+----------------+----------------+--------------+--------------+--------------+-------------+------------------+--------------+-------+-------+-------+-----+--------+-----+-----+------+----+---------+---+-----------------+-----------------------+---------------------+-----------------+--------------------+-----------+-------+----------------+----------+-----------------+--------------------+------------------+--------------------+--------------+-------------+-----------------------+-----------------------+------------------+-----------+--------------+-------------+-----------+-------------+---------+------+------------+------------+\n",
      "|sessionTime|frameIdentifier|pilot_index|worldPositionX|worldPositionY|worldPositionZ|worldVelocityX|worldVelocityY|worldVelocityZ|worldForwardDirX|worldForwardDirY|worldForwardDirZ|worldRightDirX|worldRightDirY|worldRightDirZ|gForceLateral|gForceLongitudinal|gForceVertical|    yaw|  pitch|   roll|speed|throttle|steer|brake|clutch|gear|engineRPM|drs|brakesTemperature|tyresSurfaceTemperature|tyresInnerTemperature|engineTemperature|       tyresPressure|surfaceType|fuelMix|pitLimiterStatus|fuelInTank|fuelRemainingLaps|           tyresWear|actualTyreCompound|         tyresDamage|ersStoreEnergy|ersDeployMode|ersHarvestedThisLapMGUK|ersHarvestedThisLapMGUH|ersDeployedThisLap|carPosition|currentLapTime|currentLapNum|lapDistance|totalDistance|pitStatus|sector|driverStatus|resultStatus|\n",
      "+-----------+---------------+-----------+--------------+--------------+--------------+--------------+--------------+--------------+----------------+----------------+----------------+--------------+--------------+--------------+-------------+------------------+--------------+-------+-------+-------+-----+--------+-----+-----+------+----+---------+---+-----------------+-----------------------+---------------------+-----------------+--------------------+-----------+-------+----------------+----------+-----------------+--------------------+------------------+--------------------+--------------+-------------+-----------------------+-----------------------+------------------+-----------+--------------+-------------+-----------+-------------+---------+------+------------+------------+\n",
      "|    0.01142|              0|          0|    -409.92712|       0.30248|     404.26239|      -0.00211|        4.3E-4|      -0.00181|           25938|            -107|          -20021|         20021|             2|         25938|      0.04282|          -0.00756|       0.00708|2.22814|0.00256|-8.0E-5|    0|     0.0|  0.0|  0.0|     0|   0|     3482|  0|      33/33/33/33|            84/84/89/89|          84/84/89/89|               90|21.500/21.500/23....|    0/0/0/0|    1.0|             0.0|  59.11937|          3.05168|0.000/0.000/0.000...|              soft|0.000/0.000/0.000...|     4000000.0|          1.0|                    0.0|                    0.0|               0.0|         17|           0.0|            1|  -62.52197|    -62.52197|     NULL|     2|    on track|      active|\n",
      "|    0.01142|              0|          1|    -308.75729|       0.30076|     326.33527|      -0.00222|       -7.7E-4|      -0.00159|           25909|            -108|          -20059|         20059|            -5|         25909|       0.0042|            0.0022|      -0.01747|2.22962| 0.0027| 1.6E-4|    0|     0.0|  0.0|  0.0|     0|   0|     4282|  0|      33/33/33/33|            84/84/89/89|          84/84/89/89|               90|21.500/21.500/23....|    0/0/0/0|    2.0|             0.0|  60.55943|          3.83238|0.000/0.000/0.000...|              soft|0.000/0.000/0.000...|     4000000.0|          1.0|                    0.0|                    0.0|               0.0|          1|           0.0|            1|   65.18314|     65.18314|     NULL|     0|    on track|      active|\n",
      "|    0.01142|              0|          2|    -334.10248|       0.29022|     345.90079|      -0.00203|        9.7E-4|      -0.00101|           25910|            -107|          -20057|         20057|            -4|         25910|      0.00603|            1.5E-4|       0.01518|2.22955|0.00268| 1.3E-4|    0|     0.0|  0.0|  0.0|     0|   0|     3482|  0|      33/33/33/33|            84/84/89/89|          84/84/89/89|               90|21.500/21.500/23....|    0/0/0/0|    2.0|             0.0|  58.74995|          2.87431|0.000/0.000/0.000...|              soft|0.000/0.000/0.000...|     4000000.0|          2.0|                    0.0|                    0.0|               0.0|          5|           0.0|            1|   33.16076|     33.16076|     NULL|     0|    on track|      active|\n",
      "|    0.01142|              0|          3|    -384.56311|       0.29477|     384.73779|       0.00171|       -4.9E-4|       0.00168|           25928|            -107|          -20035|         20035|             0|         25928|      -0.0426|           0.00782|      -0.00924|2.22868|0.00259|-2.0E-5|    0|     0.0|  0.0|  0.0|     0|   0|     3782|  0|      33/33/33/33|            84/84/89/89|          84/84/89/89|               90|21.500/21.500/23....|    0/0/0/0|    1.0|             0.0|  57.42995|          2.16822|0.000/0.000/0.000...|              soft|0.000/0.000/0.000...|     4000000.0|          1.0|                    0.0|                    0.0|               0.0|         13|           0.0|            1|  -30.52051|    -30.52051|     NULL|     2|    on track|      active|\n",
      "|    0.01142|              0|          4|     -345.0072|       0.30111|     344.82477|      -0.00222|      -0.00311|      -0.00194|           25910|            -108|          -20057|         20057|            -7|         25910|      0.01257|           0.00238|      -0.02716|2.22954|0.00275| 2.2E-4|    0|     0.0|  0.0|  0.0|     0|   0|     4282|  0|      33/33/33/33|            84/84/89/89|          84/84/89/89|               90|21.500/21.500/23....|    0/0/0/0|    2.0|             0.0|  57.58977|          2.26226|0.000/0.000/0.000...|              soft|0.000/0.000/0.000...|     4000000.0|          2.0|                    0.0|                    0.0|               0.0|          6|           0.0|            1|   25.17049|     25.17049|     NULL|     0|    on track|      active|\n",
      "+-----------+---------------+-----------+--------------+--------------+--------------+--------------+--------------+--------------+----------------+----------------+----------------+--------------+--------------+--------------+-------------+------------------+--------------+-------+-------+-------+-----+--------+-----+-----+------+----+---------+---+-----------------+-----------------------+---------------------+-----------------+--------------------+-----------+-------+----------------+----------+-----------------+--------------------+------------------+--------------------+--------------+-------------+-----------------------+-----------------------+------------------+-----------+--------------+-------------+-----------+-------------+---------+------+------------+------------+\n",
      "only showing top 5 rows\n",
      "\n"
     ]
    }
   ],
   "source": [
    "df = spark.read.csv(\"f1-2020-race-data/TelemetryData_15525718781239906836.csv\", header=True, inferSchema=True)\n",
    "\n",
    "df.show(n=5)"
   ]
  },
  {
   "cell_type": "code",
   "execution_count": 73,
   "metadata": {},
   "outputs": [
    {
     "name": "stderr",
     "output_type": "stream",
     "text": [
      "                                                                                \r"
     ]
    },
    {
     "data": {
      "text/plain": [
       "[Row(actualTyreCompound=1),\n",
       " Row(actualTyreCompound=2),\n",
       " Row(actualTyreCompound=0)]"
      ]
     },
     "execution_count": 73,
     "metadata": {},
     "output_type": "execute_result"
    }
   ],
   "source": [
    "df.select(\"actualTyreCompound\").distinct().collect()"
   ]
  },
  {
   "cell_type": "code",
   "execution_count": 33,
   "metadata": {},
   "outputs": [
    {
     "name": "stderr",
     "output_type": "stream",
     "text": [
      "[Stage 9:===============================>                          (6 + 5) / 11]\r"
     ]
    },
    {
     "name": "stdout",
     "output_type": "stream",
     "text": [
      "+-----------+---------------+-----------+--------------+--------------+--------------+--------------+--------------+--------------+----------------+----------------+----------------+--------------+--------------+--------------+-------------+------------------+--------------+--------+--------+--------+-----+--------+-----+-----+------+----+---------+----+-----------------+-------+----------------+----------+-----------------+------------------+--------------+-------------+-----------------------+-----------------------+------------------+-----------+--------------+-------------+-----------+-------------+---------+------+------------+------------+--------------------------+--------------------------+--------------------------+--------------------------+------------------------+------------------------+------------------------+------------------------+----------------+----------------+----------------+----------------+------------+------------+------------+------------+--------------+--------------+--------------+--------------+--------------------+--------------------+--------------------+--------------------+--------------+--------------+--------------+--------------+\n",
      "|sessionTime|frameIdentifier|pilot_index|worldPositionX|worldPositionY|worldPositionZ|worldVelocityX|worldVelocityY|worldVelocityZ|worldForwardDirX|worldForwardDirY|worldForwardDirZ|worldRightDirX|worldRightDirY|worldRightDirZ|gForceLateral|gForceLongitudinal|gForceVertical|     yaw|   pitch|    roll|speed|throttle|steer|brake|clutch|gear|engineRPM| drs|engineTemperature|fuelMix|pitLimiterStatus|fuelInTank|fuelRemainingLaps|actualTyreCompound|ersStoreEnergy|ersDeployMode|ersHarvestedThisLapMGUK|ersHarvestedThisLapMGUH|ersDeployedThisLap|carPosition|currentLapTime|currentLapNum|lapDistance|totalDistance|pitStatus|sector|driverStatus|resultStatus|FL_tyresSurfaceTemperature|FR_tyresSurfaceTemperature|RL_tyresSurfaceTemperature|RR_tyresSurfaceTemperature|FL_tyresInnerTemperature|FR_tyresInnerTemperature|RL_tyresInnerTemperature|RR_tyresInnerTemperature|FL_tyresPressure|FR_tyresPressure|RL_tyresPressure|RR_tyresPressure|FL_tyresWear|FR_tyresWear|RL_tyresWear|RR_tyresWear|FL_tyresDamage|FR_tyresDamage|RL_tyresDamage|RR_tyresDamage|FL_brakesTemperature|FR_brakesTemperature|RL_brakesTemperature|RR_brakesTemperature|FL_surfaceType|FR_surfaceType|RL_surfaceType|RR_surfaceType|\n",
      "+-----------+---------------+-----------+--------------+--------------+--------------+--------------+--------------+--------------+----------------+----------------+----------------+--------------+--------------+--------------+-------------+------------------+--------------+--------+--------+--------+-----+--------+-----+-----+------+----+---------+----+-----------------+-------+----------------+----------+-----------------+------------------+--------------+-------------+-----------------------+-----------------------+------------------+-----------+--------------+-------------+-----------+-------------+---------+------+------------+------------+--------------------------+--------------------------+--------------------------+--------------------------+------------------------+------------------------+------------------------+------------------------+----------------+----------------+----------------+----------------+------------+------------+------------+------------+--------------+--------------+--------------+--------------+--------------------+--------------------+--------------------+--------------------+--------------+--------------+--------------+--------------+\n",
      "|  566.57892|          12115|          0|      249.4422|      28.77314|    -303.76016|      13.62002|       0.37899|      54.35371|            7958|             267|           31784|        -31785|           287|          7956|      -7.2E-4|           0.96054|       0.05887| 0.24534| 0.00652|-0.00876| NULL|    NULL| NULL| NULL|  NULL|NULL|     NULL|NULL|             NULL|   NULL|            NULL|      NULL|             NULL|              NULL|          NULL|         NULL|                   NULL|                   NULL|              NULL|          8|      45.45298|            7| 2511.17188|  28779.82227|    false|     1|    on track|      active|                      NULL|                      NULL|                      NULL|                      NULL|                    NULL|                    NULL|                    NULL|                    NULL|            NULL|            NULL|            NULL|            NULL|        NULL|        NULL|        NULL|        NULL|          NULL|          NULL|          NULL|          NULL|                NULL|                NULL|                NULL|                NULL|          NULL|          NULL|          NULL|          NULL|\n",
      "|  566.57892|          12115|          1|    -481.17133|      32.47038|      16.97937|      -0.00574|      -0.00137|      -0.00272|           31203|           -1119|           -9939|          9918|          -736|         31220|       6.1E-4|           0.00294|       -3.4E-4| 1.87858| 0.03937| 0.02249| NULL|    NULL| NULL| NULL|  NULL|NULL|     NULL|NULL|             NULL|   NULL|            NULL|      NULL|             NULL|              NULL|          NULL|         NULL|                   NULL|                   NULL|              NULL|         19|      17.17468|            7|  752.86719|  27021.51758|    false|     0|    on track|        NULL|                      NULL|                      NULL|                      NULL|                      NULL|                    NULL|                    NULL|                    NULL|                    NULL|            NULL|            NULL|            NULL|            NULL|        NULL|        NULL|        NULL|        NULL|          NULL|          NULL|          NULL|          NULL|                NULL|                NULL|                NULL|                NULL|          NULL|          NULL|          NULL|          NULL|\n",
      "|  566.57892|          12115|          2|     255.68356|      28.94125|    -279.43362|      14.66654|       0.35628|      53.86421|            8573|             222|           31624|        -31624|           256|          8571|      1.08433|          -0.50483|       0.08528| 0.26474| 0.00577|-0.00782| NULL|    NULL| NULL| NULL|  NULL|NULL|     NULL|NULL|             NULL|   NULL|            NULL|      NULL|             NULL|              NULL|          NULL|         NULL|                   NULL|                   NULL|              NULL|          7|      45.90292|            7| 2536.27148|  28804.92188|    false|     1|    on track|      active|                      NULL|                      NULL|                      NULL|                      NULL|                    NULL|                    NULL|                    NULL|                    NULL|            NULL|            NULL|            NULL|            NULL|        NULL|        NULL|        NULL|        NULL|          NULL|          NULL|          NULL|          NULL|                NULL|                NULL|                NULL|                NULL|          NULL|          NULL|          NULL|          NULL|\n",
      "|  566.57892|          12115|          3|     395.53174|      36.71347|     274.93826|      -46.8143|       -0.3266|      48.15685|          -22829|             -71|           23505|        -23498|          -726|        -22824|      0.08144|            0.6261|       0.07788|-0.77096|-0.01742| 0.02217| NULL|    NULL| NULL| NULL|  NULL|NULL|     NULL|NULL|             NULL|   NULL|            NULL|      NULL|             NULL|              NULL|          NULL|         NULL|                   NULL|                   NULL|              NULL|          2|      57.81259|            7| 3237.24023|  29505.89062|    false|     1|    on track|      active|                      NULL|                      NULL|                      NULL|                      NULL|                    NULL|                    NULL|                    NULL|                    NULL|            NULL|            NULL|            NULL|            NULL|        NULL|        NULL|        NULL|        NULL|          NULL|          NULL|          NULL|          NULL|                NULL|                NULL|                NULL|                NULL|          NULL|          NULL|          NULL|          NULL|\n",
      "|  566.57892|          12115|          4|      95.15293|      22.31178|    -602.29608|      42.64965|       2.24609|      22.39263|           28555|            1544|           15996|        -15994|          -442|         28594|     -2.21699|            0.9961|      -0.06758| 1.06022|-0.04774| 0.01349| NULL|    NULL| NULL| NULL|  NULL|NULL|     NULL|NULL|             NULL|   NULL|            NULL|      NULL|             NULL|              NULL|          NULL|         NULL|                   NULL|                   NULL|              NULL|         15|      37.57027|            7| 2140.66406|  28409.31445|    false|     1|    on track|      active|                      NULL|                      NULL|                      NULL|                      NULL|                    NULL|                    NULL|                    NULL|                    NULL|            NULL|            NULL|            NULL|            NULL|        NULL|        NULL|        NULL|        NULL|          NULL|          NULL|          NULL|          NULL|                NULL|                NULL|                NULL|                NULL|          NULL|          NULL|          NULL|          NULL|\n",
      "|  566.57892|          12115|          5|     368.39407|      29.88186|     -209.2169|      39.10907|       0.32065|      14.15932|           30716|             175|           11408|        -11407|          -114|         30716|     -2.26434|          -1.47599|      -0.04801|  1.2152|-0.00624| 0.00349| NULL|    NULL| NULL| NULL|  NULL|NULL|     NULL|NULL|             NULL|   NULL|            NULL|      NULL|             NULL|              NULL|          NULL|         NULL|                   NULL|                   NULL|              NULL|          6|      48.84445|            7| 2684.19922|  28952.84961|    false|     1|    on track|      active|                      NULL|                      NULL|                      NULL|                      NULL|                    NULL|                    NULL|                    NULL|                    NULL|            NULL|            NULL|            NULL|            NULL|        NULL|        NULL|        NULL|        NULL|          NULL|          NULL|          NULL|          NULL|                NULL|                NULL|                NULL|                NULL|          NULL|          NULL|          NULL|          NULL|\n",
      "|  566.57892|          12115|          6|      415.3284|      36.76959|     253.72655|     -45.05403|       0.03626|      45.92038|          -22967|              95|           23370|        -23365|          -746|        -22959|     -0.23287|           0.70818|       -0.0711| -0.7768|-0.01419| 0.02277| NULL|    NULL| NULL| NULL|  NULL|NULL|     NULL|NULL|             NULL|   NULL|            NULL|      NULL|             NULL|              NULL|          NULL|         NULL|                   NULL|                   NULL|              NULL|          3|      57.40921|            7| 3208.19336|  29476.84375|    false|     1|    on track|      active|                      NULL|                      NULL|                      NULL|                      NULL|                    NULL|                    NULL|                    NULL|                    NULL|            NULL|            NULL|            NULL|            NULL|        NULL|        NULL|        NULL|        NULL|          NULL|          NULL|          NULL|          NULL|                NULL|                NULL|                NULL|                NULL|          NULL|          NULL|          NULL|          NULL|\n",
      "|  566.57892|          12115|          7|     430.33456|      34.21188|      79.72064|      39.52752|       1.10493|      59.88181|           18032|             598|           27352|        -27344|          -680|         18042|     -0.21186|           0.42213|       0.15687|   0.583|-0.02739| 0.02076| NULL|    NULL| NULL| NULL|  NULL|NULL|     NULL|NULL|             NULL|   NULL|            NULL|      NULL|             NULL|              NULL|          NULL|         NULL|                   NULL|                   NULL|              NULL|          5|      54.52039|            7| 3009.58203|  29278.23242|    false|     1|    on track|      active|                      NULL|                      NULL|                      NULL|                      NULL|                    NULL|                    NULL|                    NULL|                    NULL|            NULL|            NULL|            NULL|            NULL|        NULL|        NULL|        NULL|        NULL|          NULL|          NULL|          NULL|          NULL|                NULL|                NULL|                NULL|                NULL|          NULL|          NULL|          NULL|          NULL|\n",
      "|  566.57892|          12115|          8|    -191.85931|      37.61925|     372.55472|       0.00688|       0.69045|       0.02537|          -20980|            -315|           25167|        -25168|           622|        -20972|          0.0|               0.0|           0.0|-0.69489| 0.00844|-0.01901| NULL|    NULL| NULL| NULL|  NULL|NULL|     NULL|NULL|             NULL|   NULL|            NULL|      NULL|             NULL|              NULL|          NULL|         NULL|                   NULL|                   NULL|              NULL|         20|      29.71566|            4|   90.66113|  13224.98633|     true|     0|   in garage|        NULL|                      NULL|                      NULL|                      NULL|                      NULL|                    NULL|                    NULL|                    NULL|                    NULL|            NULL|            NULL|            NULL|            NULL|        NULL|        NULL|        NULL|        NULL|          NULL|          NULL|          NULL|          NULL|                NULL|                NULL|                NULL|                NULL|          NULL|          NULL|          NULL|          NULL|\n",
      "|  566.57892|          12115|          9|      129.7341|      24.16718|    -577.86438|      41.17097|       2.11074|      36.65348|           24397|            1317|           21833|        -21822|          -773|         24431|     -0.94115|           0.93509|       0.10941| 0.84106|-0.04571|  0.0236| NULL|    NULL| NULL| NULL|  NULL|NULL|     NULL|NULL|             NULL|   NULL|            NULL|      NULL|             NULL|              NULL|          NULL|         NULL|                   NULL|                   NULL|              NULL|         13|      38.41564|            7| 2182.49414|  28451.14453|    false|     1|    on track|      active|                      NULL|                      NULL|                      NULL|                      NULL|                    NULL|                    NULL|                    NULL|                    NULL|            NULL|            NULL|            NULL|            NULL|        NULL|        NULL|        NULL|        NULL|          NULL|          NULL|          NULL|          NULL|                NULL|                NULL|                NULL|                NULL|          NULL|          NULL|          NULL|          NULL|\n",
      "|  566.57892|          12115|         10|      -9.38286|      17.38842|     -555.9574|        4.6971|       0.58272|     -42.92963|            3897|             382|          -32532|         32532|          -394|          3893|     -2.53047|          -1.02938|       0.09985| 3.02235| 0.01058| 0.01205| NULL|    NULL| NULL| NULL|  NULL|NULL|     NULL|NULL|             NULL|   NULL|            NULL|      NULL|             NULL|              NULL|          NULL|         NULL|                   NULL|                   NULL|              NULL|         16|      34.44712|            7| 1997.98047|  28266.63086|    false|     1|    on track|      active|                      NULL|                      NULL|                      NULL|                      NULL|                    NULL|                    NULL|                    NULL|                    NULL|            NULL|            NULL|            NULL|            NULL|        NULL|        NULL|        NULL|        NULL|          NULL|          NULL|          NULL|          NULL|                NULL|                NULL|                NULL|                NULL|          NULL|          NULL|          NULL|          NULL|\n",
      "|  566.57892|          12115|         11|     451.18408|      34.82735|     114.12768|      29.30019|        0.8095|      57.63974|           14386|             369|           29437|        -29433|          -514|         14390|       -3.214|          -3.05411|      -0.05143| 0.45462|-0.01906| 0.01569| NULL|    NULL| NULL| NULL|  NULL|NULL|     NULL|NULL|             NULL|   NULL|            NULL|      NULL|             NULL|              NULL|          NULL|         NULL|                   NULL|                   NULL|              NULL|          4|      54.98809|            7| 3049.63672|  29318.28711|    false|     1|    on track|      active|                      NULL|                      NULL|                      NULL|                      NULL|                    NULL|                    NULL|                    NULL|                    NULL|            NULL|            NULL|            NULL|            NULL|        NULL|        NULL|        NULL|        NULL|          NULL|          NULL|          NULL|          NULL|                NULL|                NULL|                NULL|                NULL|          NULL|          NULL|          NULL|          NULL|\n",
      "|  566.57892|          12115|         12|     116.25728|      23.40571|    -589.05914|      42.55898|       2.44141|      32.27044|           25971|            1495|           19923|        -19921|          -540|         26009|      -1.7765|            1.3368|       0.04248| 0.91646|-0.04628|  0.0165| NULL|    NULL| NULL| NULL|  NULL|NULL|     NULL|NULL|             NULL|   NULL|            NULL|      NULL|             NULL|              NULL|          NULL|         NULL|                   NULL|                   NULL|              NULL|         14|       38.0815|            7| 2165.35156|  28434.00195|    false|     1|    on track|      active|                      NULL|                      NULL|                      NULL|                      NULL|                    NULL|                    NULL|                    NULL|                    NULL|            NULL|            NULL|            NULL|            NULL|        NULL|        NULL|        NULL|        NULL|          NULL|          NULL|          NULL|          NULL|                NULL|                NULL|                NULL|                NULL|          NULL|          NULL|          NULL|          NULL|\n",
      "|  566.57892|          12115|         13|     156.85785|      25.57016|    -551.10571|      41.55882|       1.86023|      44.40971|           22322|            1062|           23963|        -23949|          -828|         22346|     -0.53167|           0.73456|        -0.141| 0.75024|-0.04063| 0.02529| NULL|    NULL| NULL| NULL|  NULL|NULL|     NULL|NULL|             NULL|   NULL|            NULL|      NULL|             NULL|              NULL|          NULL|         NULL|                   NULL|                   NULL|              NULL|         12|      39.09239|            7|  2220.0918|  28488.74219|    false|     1|    on track|      active|                      NULL|                      NULL|                      NULL|                      NULL|                    NULL|                    NULL|                    NULL|                    NULL|            NULL|            NULL|            NULL|            NULL|        NULL|        NULL|        NULL|        NULL|          NULL|          NULL|          NULL|          NULL|                NULL|                NULL|                NULL|                NULL|          NULL|          NULL|          NULL|          NULL|\n",
      "|  566.57892|          12115|         14|      -6.33672|      17.13058|    -522.15289|     -14.28623|       0.33346|     -54.97169|           -8190|             157|          -31726|         31722|          -474|         -8192|     -1.80678|          -3.17326|       0.07985|-2.88891| 0.01521| 0.01447| NULL|    NULL| NULL| NULL|  NULL|NULL|     NULL|NULL|             NULL|   NULL|            NULL|      NULL|             NULL|              NULL|          NULL|         NULL|                   NULL|                   NULL|              NULL|         18|      33.65816|            7| 1963.99023|  28232.64062|    false|     1|    on track|      active|                      NULL|                      NULL|                      NULL|                      NULL|                    NULL|                    NULL|                    NULL|                    NULL|            NULL|            NULL|            NULL|            NULL|        NULL|        NULL|        NULL|        NULL|          NULL|          NULL|          NULL|          NULL|                NULL|                NULL|                NULL|                NULL|          NULL|          NULL|          NULL|          NULL|\n",
      "|  566.57892|          12115|         15|     168.89706|      26.11158|     -538.1369|       42.9237|       1.65738|      46.88941|           22122|             929|           24154|        -24138|          -876|         22141|     -0.11895|           0.81595|      -0.37433| 0.74184|-0.03891| 0.02676| NULL|    NULL| NULL| NULL|  NULL|NULL|     NULL|NULL|             NULL|   NULL|            NULL|      NULL|             NULL|              NULL|          NULL|         NULL|                   NULL|                   NULL|              NULL|         11|      39.45507|            7| 2237.76758|  28506.41797|    false|     1|    on track|      active|                      NULL|                      NULL|                      NULL|                      NULL|                    NULL|                    NULL|                    NULL|                    NULL|            NULL|            NULL|            NULL|            NULL|        NULL|        NULL|        NULL|        NULL|          NULL|          NULL|          NULL|          NULL|                NULL|                NULL|                NULL|                NULL|          NULL|          NULL|          NULL|          NULL|\n",
      "|  566.57892|          12115|         16|      243.6601|      28.61781|       -327.37|      12.89758|       0.33133|       50.2037|            8150|             251|           31736|        -31736|           308|          8147|     -0.05028|           1.06689|      -0.00306| 0.25138|  0.0072| -0.0094| NULL|    NULL| NULL| NULL|  NULL|NULL|     NULL|NULL|             NULL|   NULL|            NULL|      NULL|             NULL|              NULL|          NULL|         NULL|                   NULL|                   NULL|              NULL|          9|      45.03821|            7| 2486.86133|  28755.51172|    false|     1|    on track|      active|                      NULL|                      NULL|                      NULL|                      NULL|                    NULL|                    NULL|                    NULL|                    NULL|            NULL|            NULL|            NULL|            NULL|        NULL|        NULL|        NULL|        NULL|          NULL|          NULL|          NULL|          NULL|                NULL|                NULL|                NULL|                NULL|          NULL|          NULL|          NULL|          NULL|\n",
      "|  566.57892|          12115|         17|      -9.63616|       17.2343|     -540.8797|      -3.39369|       0.26989|     -48.72727|           -1814|             110|          -32716|         32713|          -455|         -1815|     -2.57405|           -2.9449|       0.12719|-3.08619| 0.01406|  0.0139| NULL|    NULL| NULL| NULL|  NULL|NULL|     NULL|NULL|             NULL|   NULL|            NULL|      NULL|             NULL|              NULL|          NULL|         NULL|                   NULL|                   NULL|              NULL|         17|      34.06324|            7| 1982.85156|  28251.50195|    false|     1|    on track|      active|                      NULL|                      NULL|                      NULL|                      NULL|                    NULL|                    NULL|                    NULL|                    NULL|            NULL|            NULL|            NULL|            NULL|        NULL|        NULL|        NULL|        NULL|          NULL|          NULL|          NULL|          NULL|                NULL|                NULL|                NULL|                NULL|          NULL|          NULL|          NULL|          NULL|\n",
      "|  566.57892|          12115|         18|     190.17166|      26.87596|    -514.53998|      43.91482|       1.37317|      48.31474|           22033|             785|           24239|        -24224|          -864|         22047|     -0.02702|           0.52711|       0.06012| 0.73807|-0.03565| 0.02639| NULL|    NULL| NULL| NULL|  NULL|NULL|     NULL|NULL|             NULL|   NULL|            NULL|      NULL|             NULL|              NULL|          NULL|         NULL|                   NULL|                   NULL|              NULL|         10|      39.97464|            7| 2269.50977|  28538.16016|    false|     1|    on track|      active|                      NULL|                      NULL|                      NULL|                      NULL|                    NULL|                    NULL|                    NULL|                    NULL|            NULL|            NULL|            NULL|            NULL|        NULL|        NULL|        NULL|        NULL|          NULL|          NULL|          NULL|          NULL|                NULL|                NULL|                NULL|                NULL|          NULL|          NULL|          NULL|          NULL|\n",
      "|  566.57892|          12115|         19|     367.72879|      36.28859|     304.00226|     -46.67579|      -0.85485|      51.83944|          -21932|            -414|           24340|        -24328|          -777|        -21935|     -0.20457|           0.40097|      -0.42351|-0.73365|-0.02611| 0.02374| NULL|    NULL| NULL| NULL|  NULL|NULL|     NULL|NULL|             NULL|   NULL|            NULL|      NULL|             NULL|              NULL|          NULL|         NULL|                   NULL|                   NULL|              NULL|          1|       58.5526|            7| 3277.50781|   29546.1582|    false|     2|    on track|      active|                      NULL|                      NULL|                      NULL|                      NULL|                    NULL|                    NULL|                    NULL|                    NULL|            NULL|            NULL|            NULL|            NULL|        NULL|        NULL|        NULL|        NULL|          NULL|          NULL|          NULL|          NULL|                NULL|                NULL|                NULL|                NULL|          NULL|          NULL|          NULL|          NULL|\n",
      "| 1051.61011|          23056|          0|      27.41224|      16.70755|    -405.69379|      -2.63437|       0.65081|     -54.60735|           -2238|             427|          -32687|         32688|          -290|         -2242|      2.72497|           0.75114|      -0.17099|-3.07322| 0.00972| 0.00885| NULL|    NULL| NULL| NULL|  NULL|NULL|     NULL|NULL|             NULL|   NULL|            NULL|      NULL|             NULL|              NULL|          NULL|         NULL|                   NULL|                   NULL|              NULL|          7|      31.14067|           13| 1842.73438|  54380.03516|    false|     1|    on track|      active|                      NULL|                      NULL|                      NULL|                      NULL|                    NULL|                    NULL|                    NULL|                    NULL|            NULL|            NULL|            NULL|            NULL|        NULL|        NULL|        NULL|        NULL|          NULL|          NULL|          NULL|          NULL|                NULL|                NULL|                NULL|                NULL|          NULL|          NULL|          NULL|          NULL|\n",
      "| 1051.61011|          23056|          1|    -178.16989|      37.62358|     384.15463|        3.0E-4|       0.96899|       -9.9E-4|          -21524|             -23|           24705|        -24705|           -22|        -21524|          0.0|               0.0|           0.0|-0.71668| -9.9E-4|  6.8E-4| NULL|    NULL| NULL| NULL|  NULL|NULL|     NULL|NULL|             NULL|   NULL|            NULL|      NULL|             NULL|              NULL|          NULL|         NULL|                   NULL|                   NULL|              NULL|         19|      17.17468|            7|   72.75977|  26341.41016|     true|     0|   in garage|        NULL|                      NULL|                      NULL|                      NULL|                      NULL|                    NULL|                    NULL|                    NULL|                    NULL|            NULL|            NULL|            NULL|            NULL|        NULL|        NULL|        NULL|        NULL|          NULL|          NULL|          NULL|          NULL|                NULL|                NULL|                NULL|                NULL|          NULL|          NULL|          NULL|          NULL|\n",
      "| 1051.61011|          23056|          2|        24.627|      16.86818|    -426.20007|      -11.8415|       0.29131|     -57.30764|           -6969|             222|          -32016|         32016|          -203|         -6970|        2.181|            0.8406|      -0.13827|-2.92725|  0.0075|  0.0062| NULL|    NULL| NULL| NULL|  NULL|NULL|     NULL|NULL|             NULL|   NULL|            NULL|      NULL|             NULL|              NULL|          NULL|         NULL|                   NULL|                   NULL|              NULL|          6|       31.7315|           13| 1863.26953|  54400.57031|    false|     1|    on track|      active|                      NULL|                      NULL|                      NULL|                      NULL|                    NULL|                    NULL|                    NULL|                    NULL|            NULL|            NULL|            NULL|            NULL|        NULL|        NULL|        NULL|        NULL|          NULL|          NULL|          NULL|          NULL|                NULL|                NULL|                NULL|                NULL|          NULL|          NULL|          NULL|          NULL|\n",
      "| 1051.61011|          23056|          3|      27.47986|      16.54836|    -394.89285|        3.0311|       0.95957|     -54.44576|            1174|             603|          -32740|         32745|          -270|          1169|      2.79233|           0.59672|      -0.18969| 3.10574| 0.00759| 0.00825| NULL|    NULL| NULL| NULL|  NULL|NULL|     NULL|NULL|             NULL|   NULL|            NULL|      NULL|             NULL|              NULL|          NULL|         NULL|                   NULL|                   NULL|              NULL|          8|      30.96897|           13| 1832.24609|  54369.54688|    false|     1|    on track|      active|                      NULL|                      NULL|                      NULL|                      NULL|                    NULL|                    NULL|                    NULL|                    NULL|            NULL|            NULL|            NULL|            NULL|        NULL|        NULL|        NULL|        NULL|          NULL|          NULL|          NULL|          NULL|                NULL|                NULL|                NULL|                NULL|          NULL|          NULL|          NULL|          NULL|\n",
      "| 1051.61011|          23056|          4|    -152.38422|      18.24965|     186.81509|       6.90541|      -2.38996|     -29.17493|            7796|           -2611|          -31718|         31822|           134|          7811|      1.81669|           0.30928|      -0.00201| 2.90131| 0.01503| -0.0041| NULL|    NULL| NULL| NULL|  NULL|NULL|     NULL|NULL|             NULL|   NULL|            NULL|      NULL|             NULL|              NULL|          NULL|         NULL|                   NULL|                   NULL|              NULL|         14|      20.69197|           13| 1171.97266|  53709.27344|    false|     0|    on track|      active|                      NULL|                      NULL|                      NULL|                      NULL|                    NULL|                    NULL|                    NULL|                    NULL|            NULL|            NULL|            NULL|            NULL|        NULL|        NULL|        NULL|        NULL|          NULL|          NULL|          NULL|          NULL|                NULL|                NULL|                NULL|                NULL|          NULL|          NULL|          NULL|          NULL|\n",
      "| 1051.61011|          23056|          5|     125.65924|      23.94542|    -581.42096|      41.78431|       2.20738|      35.85644|           24745|            1370|           21434|        -21423|          -771|         24781|     -1.12656|            0.8991|      -0.21189| 0.85724|-0.04705| 0.02356| NULL|    NULL| NULL| NULL|  NULL|NULL|     NULL|NULL|             NULL|   NULL|            NULL|      NULL|             NULL|              NULL|          NULL|         NULL|                   NULL|                   NULL|              NULL|          5|       38.0564|           13| 2177.22656|  54714.52734|    false|     1|    on track|      active|                      NULL|                      NULL|                      NULL|                      NULL|                    NULL|                    NULL|                    NULL|                    NULL|            NULL|            NULL|            NULL|            NULL|        NULL|        NULL|        NULL|        NULL|          NULL|          NULL|          NULL|          NULL|                NULL|                NULL|                NULL|                NULL|          NULL|          NULL|          NULL|          NULL|\n",
      "| 1051.61011|          23056|          6|     431.24329|      34.24562|      81.06286|      39.81307|       1.15007|      60.54996|           17990|             617|           27379|        -27370|          -713|         18000|     -0.16551|           0.41786|       0.19562| 0.58149|-0.02855| 0.02177| NULL|    NULL| NULL| NULL|  NULL|NULL|     NULL|NULL|             NULL|   NULL|            NULL|      NULL|             NULL|              NULL|          NULL|         NULL|                   NULL|                   NULL|              NULL|          2|      53.99691|           13| 3011.19922|      55548.5|    false|     1|    on track|      active|                      NULL|                      NULL|                      NULL|                      NULL|                    NULL|                    NULL|                    NULL|                    NULL|            NULL|            NULL|            NULL|            NULL|        NULL|        NULL|        NULL|        NULL|          NULL|          NULL|          NULL|          NULL|                NULL|                NULL|                NULL|                NULL|          NULL|          NULL|          NULL|          NULL|\n",
      "| 1051.61011|          23056|          7|     355.21579|      29.76575|    -212.85474|       46.7382|       0.32543|       9.49889|           32093|             193|            6605|         -6605|            46|         32094|     -1.88657|          -2.70906|      -0.08558| 1.36781|-0.00549|-0.00142| NULL|    NULL| NULL| NULL|  NULL|NULL|     NULL|NULL|             NULL|   NULL|            NULL|      NULL|             NULL|              NULL|          NULL|         NULL|                   NULL|                   NULL|              NULL|          4|      48.22363|           13| 2670.50781|  55207.80859|    false|     1|    on track|      active|                      NULL|                      NULL|                      NULL|                      NULL|                    NULL|                    NULL|                    NULL|                    NULL|            NULL|            NULL|            NULL|            NULL|        NULL|        NULL|        NULL|        NULL|          NULL|          NULL|          NULL|          NULL|                NULL|                NULL|                NULL|                NULL|          NULL|          NULL|          NULL|          NULL|\n",
      "| 1051.61011|          23056|          8|    -191.85931|      37.61925|     372.55472|        0.0069|       0.69034|       0.02538|          -20980|            -315|           25167|        -25168|           622|        -20972|          0.0|               0.0|           0.0|-0.69489| 0.00844|-0.01901| NULL|    NULL| NULL| NULL|  NULL|NULL|     NULL|NULL|             NULL|   NULL|            NULL|      NULL|             NULL|              NULL|          NULL|         NULL|                   NULL|                   NULL|              NULL|         20|      29.71566|            4|   90.66113|  13224.98633|     true|     0|   in garage|        NULL|                      NULL|                      NULL|                      NULL|                      NULL|                    NULL|                    NULL|                    NULL|                    NULL|            NULL|            NULL|            NULL|            NULL|        NULL|        NULL|        NULL|        NULL|          NULL|          NULL|          NULL|          NULL|                NULL|                NULL|                NULL|                NULL|          NULL|          NULL|          NULL|          NULL|\n",
      "| 1051.61011|          23056|          9|    -152.78253|      16.09347|     158.58453|      -8.32701|      -2.70017|     -36.51864|           -7460|           -2333|          -31820|         31889|           505|         -7514|      1.35496|           1.24016|      -0.03165|-2.91177|-0.03133|-0.01544| NULL|    NULL| NULL| NULL|  NULL|NULL|     NULL|NULL|             NULL|   NULL|            NULL|      NULL|             NULL|              NULL|          NULL|         NULL|                   NULL|                   NULL|              NULL|         12|      21.64349|           13| 1202.55078|  53739.85156|    false|     0|    on track|      active|                      NULL|                      NULL|                      NULL|                      NULL|                    NULL|                    NULL|                    NULL|                    NULL|            NULL|            NULL|            NULL|            NULL|        NULL|        NULL|        NULL|        NULL|          NULL|          NULL|          NULL|          NULL|                NULL|                NULL|                NULL|                NULL|          NULL|          NULL|          NULL|          NULL|\n",
      "| 1051.61011|          23056|         10|    -440.78421|      30.45243|      53.78053|      52.90217|      -2.49806|      27.74846|           28924|           -1292|           15342|        -15348|           161|         28949|     -1.21773|           0.82726|      -0.05303| 1.08293| 0.03718|-0.00493| NULL|    NULL| NULL| NULL|  NULL|NULL|     NULL|NULL|             NULL|   NULL|            NULL|      NULL|             NULL|              NULL|          NULL|         NULL|                   NULL|                   NULL|              NULL|         15|      13.77264|           13|  800.35938|  53337.66016|    false|     0|    on track|      active|                      NULL|                      NULL|                      NULL|                      NULL|                    NULL|                    NULL|                    NULL|                    NULL|            NULL|            NULL|            NULL|            NULL|        NULL|        NULL|        NULL|        NULL|          NULL|          NULL|          NULL|          NULL|                NULL|                NULL|                NULL|                NULL|          NULL|          NULL|          NULL|          NULL|\n",
      "| 1051.61011|          23056|         11|     375.19751|      29.93257|    -206.36952|      36.55574|        0.3045|      17.48893|           29465|             219|           14331|        -14330|          -180|         29466|     -2.30541|          -0.36795|      -0.00519| 1.11814|-0.00843| 0.00552| NULL|    NULL| NULL| NULL|  NULL|NULL|     NULL|NULL|             NULL|   NULL|            NULL|      NULL|             NULL|              NULL|          NULL|         NULL|                   NULL|                   NULL|              NULL|          3|      48.78647|           13| 2691.65625|  55228.95703|    false|     1|    on track|      active|                      NULL|                      NULL|                      NULL|                      NULL|                    NULL|                    NULL|                    NULL|                    NULL|            NULL|            NULL|            NULL|            NULL|        NULL|        NULL|        NULL|        NULL|          NULL|          NULL|          NULL|          NULL|                NULL|                NULL|                NULL|                NULL|          NULL|          NULL|          NULL|          NULL|\n",
      "| 1051.61011|          23056|         12|    -150.97417|      17.04827|     172.31909|      -1.03114|      -2.54223|     -33.98837|            -851|           -2443|          -32664|         32753|           322|          -878|      1.82718|           0.98052|        0.1101|-3.11559|-0.01182|-0.00985| NULL|    NULL| NULL| NULL|  NULL|NULL|     NULL|NULL|             NULL|   NULL|            NULL|      NULL|             NULL|              NULL|          NULL|         NULL|                   NULL|                   NULL|              NULL|         13|      21.28478|           13| 1187.96484|  53725.26562|    false|     0|    on track|      active|                      NULL|                      NULL|                      NULL|                      NULL|                    NULL|                    NULL|                    NULL|                    NULL|            NULL|            NULL|            NULL|            NULL|        NULL|        NULL|        NULL|        NULL|          NULL|          NULL|          NULL|          NULL|                NULL|                NULL|                NULL|                NULL|          NULL|          NULL|          NULL|          NULL|\n",
      "| 1051.61011|          23056|         13|    -163.64572|      14.06645|     132.68077|     -22.85944|       -3.1518|     -37.91872|          -16944|           -2304|          -27950|         28018|            56|        -16989|      1.12431|           1.03065|        1.5E-4|-2.59768|-0.03794|-0.00171| NULL|    NULL| NULL| NULL|  NULL|NULL|     NULL|NULL|             NULL|   NULL|            NULL|      NULL|             NULL|              NULL|          NULL|         NULL|                   NULL|                   NULL|              NULL|         11|      22.37165|           13| 1230.82422|    53768.125|    false|     0|    on track|      active|                      NULL|                      NULL|                      NULL|                      NULL|                    NULL|                    NULL|                    NULL|                    NULL|            NULL|            NULL|            NULL|            NULL|        NULL|        NULL|        NULL|        NULL|          NULL|          NULL|          NULL|          NULL|                NULL|                NULL|                NULL|                NULL|          NULL|          NULL|          NULL|          NULL|\n",
      "| 1051.61011|          23056|         14|    -485.27133|      32.44007|      34.66641|      50.71157|      -2.19292|      16.50668|           31106|           -1335|           10211|        -10222|           -67|         31131|      -1.1118|           1.35753|       0.00286| 1.25327| 0.03809| 0.00206| NULL|    NULL| NULL| NULL|  NULL|NULL|     NULL|NULL|             NULL|   NULL|            NULL|      NULL|             NULL|              NULL|          NULL|         NULL|                   NULL|                   NULL|              NULL|         17|      12.84428|           13|  752.08984|  53289.39062|    false|     0|    on track|      active|                      NULL|                      NULL|                      NULL|                      NULL|                    NULL|                    NULL|                    NULL|                    NULL|            NULL|            NULL|            NULL|            NULL|        NULL|        NULL|        NULL|        NULL|          NULL|          NULL|          NULL|          NULL|                NULL|                NULL|                NULL|                NULL|          NULL|          NULL|          NULL|          NULL|\n",
      "| 1051.61011|          23056|         15|    -395.20615|      36.86043|     245.76128|     -62.34806|      -2.06176|      -50.8824|          -25382|            -735|          -20708|         20721|         -1127|        -25358|     -0.01831|           0.13172|      -0.01472|-2.25542| 0.00438| 0.03441| NULL|    NULL| NULL| NULL|  NULL|NULL|     NULL|NULL|             NULL|   NULL|            NULL|      NULL|             NULL|              NULL|          NULL|         NULL|                   NULL|                   NULL|              NULL|         18|        4.2832|           13|  327.97656|  52865.27734|    false|     0|    on track|      active|                      NULL|                      NULL|                      NULL|                      NULL|                    NULL|                    NULL|                    NULL|                    NULL|            NULL|            NULL|            NULL|            NULL|        NULL|        NULL|        NULL|        NULL|          NULL|          NULL|          NULL|          NULL|                NULL|                NULL|                NULL|                NULL|          NULL|          NULL|          NULL|          NULL|\n",
      "| 1051.61011|          23056|         16|      12.15618|      15.01404|    -344.95746|      32.72392|       2.41255|     -55.54629|           16001|            1156|          -28571|         28586|           122|         16014|       3.2523|          -2.69858|      -0.27612|  2.6313|-0.02051|-0.00373| NULL|    NULL| NULL| NULL|  NULL|NULL|     NULL|NULL|             NULL|   NULL|            NULL|      NULL|             NULL|              NULL|          NULL|         NULL|                   NULL|                   NULL|              NULL|          9|      30.27061|           13| 1776.74609|  54314.04688|    false|     1|    on track|      active|                      NULL|                      NULL|                      NULL|                      NULL|                    NULL|                    NULL|                    NULL|                    NULL|            NULL|            NULL|            NULL|            NULL|        NULL|        NULL|        NULL|        NULL|          NULL|          NULL|          NULL|          NULL|                NULL|                NULL|                NULL|                NULL|          NULL|          NULL|          NULL|          NULL|\n",
      "| 1051.61011|          23056|         17|    -470.20416|       31.7974|      39.90321|      50.84497|      -2.26222|      19.61472|           30518|           -1333|           11853|        -11863|           -18|         30543|     -1.02238|           0.71202|      -0.02648| 1.20004| 0.03775|  5.6E-4| NULL|    NULL| NULL| NULL|  NULL|NULL|     NULL|NULL|             NULL|   NULL|            NULL|      NULL|             NULL|              NULL|          NULL|         NULL|                   NULL|                   NULL|              NULL|         16|      13.23181|           13|  767.88281|  53305.18359|    false|     0|    on track|      active|                      NULL|                      NULL|                      NULL|                      NULL|                    NULL|                    NULL|                    NULL|                    NULL|            NULL|            NULL|            NULL|            NULL|        NULL|        NULL|        NULL|        NULL|          NULL|          NULL|          NULL|          NULL|                NULL|                NULL|                NULL|                NULL|          NULL|          NULL|          NULL|          NULL|\n",
      "| 1051.61011|          23056|         18|    -173.14955|      12.80799|     117.51588|     -26.51603|      -3.49922|     -41.20062|          -17724|           -2288|          -27463|         27531|            -2|        -17768|     -0.51126|           1.23415|      -0.04532|-2.56958|-0.03782|  7.0E-5| NULL|    NULL| NULL| NULL|  NULL|NULL|     NULL|NULL|             NULL|   NULL|            NULL|      NULL|             NULL|              NULL|          NULL|         NULL|                   NULL|                   NULL|              NULL|         10|       22.7157|           13|  1248.6875|  53785.98828|    false|     0|    on track|      active|                      NULL|                      NULL|                      NULL|                      NULL|                    NULL|                    NULL|                    NULL|                    NULL|            NULL|            NULL|            NULL|            NULL|        NULL|        NULL|        NULL|        NULL|          NULL|          NULL|          NULL|          NULL|                NULL|                NULL|                NULL|                NULL|          NULL|          NULL|          NULL|          NULL|\n",
      "| 1051.61011|          23056|         19|     450.20319|      34.79718|     110.94747|      29.64355|       0.86884|      56.63229|           14783|             333|           29240|        -29234|          -573|         14787|     -3.03431|           -1.9845|      -0.19103| 0.46819|-0.02022| 0.01751| NULL|    NULL| NULL| NULL|  NULL|NULL|     NULL|NULL|             NULL|   NULL|            NULL|      NULL|             NULL|              NULL|          NULL|         NULL|                   NULL|                   NULL|              NULL|          1|      54.57263|           13| 3046.47656|  55583.77734|    false|     1|    on track|      active|                      NULL|                      NULL|                      NULL|                      NULL|                    NULL|                    NULL|                    NULL|                    NULL|            NULL|            NULL|            NULL|            NULL|        NULL|        NULL|        NULL|        NULL|          NULL|          NULL|          NULL|          NULL|                NULL|                NULL|                NULL|                NULL|          NULL|          NULL|          NULL|          NULL|\n",
      "| 2464.76343|          52948|          0|      93.42906|      22.21312|    -603.26135|      44.33778|       2.33955|      22.17237|           28932|            1582|           15299|        -15299|          -398|         28973|      -2.4294|            1.0532|       0.00796| 1.08439|-0.04841| 0.01217| NULL|    NULL| NULL| NULL|  NULL|NULL|     NULL|NULL|             NULL|   NULL|            NULL|      NULL|             NULL|              NULL|          NULL|         NULL|                   NULL|                   NULL|              NULL|          7|      37.14605|           29| 2138.70312| 124725.73438|    false|     1|    on track|      active|                      NULL|                      NULL|                      NULL|                      NULL|                    NULL|                    NULL|                    NULL|                    NULL|            NULL|            NULL|            NULL|            NULL|        NULL|        NULL|        NULL|        NULL|          NULL|          NULL|          NULL|          NULL|                NULL|                NULL|                NULL|                NULL|          NULL|          NULL|          NULL|          NULL|\n",
      "| 2464.76343|          52948|          1|    -178.16989|      37.62358|     384.15463|        3.3E-4|       0.96796|      -0.00101|          -21524|             -23|           24705|        -24705|           -22|        -21524|          0.0|               0.0|           0.0|-0.71668| -9.9E-4|  6.8E-4| NULL|    NULL| NULL| NULL|  NULL|NULL|     NULL|NULL|             NULL|   NULL|            NULL|      NULL|             NULL|              NULL|          NULL|         NULL|                   NULL|                   NULL|              NULL|         19|     1875.2218|            7|   72.75977|  26341.41016|     true|     0|   in garage|        NULL|                      NULL|                      NULL|                      NULL|                      NULL|                    NULL|                    NULL|                    NULL|                    NULL|            NULL|            NULL|            NULL|            NULL|        NULL|        NULL|        NULL|        NULL|          NULL|          NULL|          NULL|          NULL|                NULL|                NULL|                NULL|                NULL|          NULL|          NULL|          NULL|          NULL|\n",
      "| 2464.76343|          52948|          2|      -9.08135|      17.40389|    -558.35608|       6.12303|       0.62935|     -43.70683|            4865|             392|          -32401|         32401|          -413|          4860|     -2.58935|          -2.22979|       0.03427| 2.99256|  0.0107| 0.01262| NULL|    NULL| NULL| NULL|  NULL|NULL|     NULL|NULL|             NULL|   NULL|            NULL|      NULL|             NULL|              NULL|          NULL|         NULL|                   NULL|                   NULL|              NULL|          8|      33.85852|           29| 2000.42969| 124587.46094|    false|     1|    on track|      active|                      NULL|                      NULL|                      NULL|                      NULL|                    NULL|                    NULL|                    NULL|                    NULL|            NULL|            NULL|            NULL|            NULL|        NULL|        NULL|        NULL|        NULL|          NULL|          NULL|          NULL|          NULL|                NULL|                NULL|                NULL|                NULL|          NULL|          NULL|          NULL|          NULL|\n",
      "| 2464.76343|          52948|          3|     360.28043|      29.81439|    -211.69351|      44.02211|       0.31899|      11.26897|           31712|             142|            8246|         -8246|            -7|         31712|     -2.18066|           -2.5508|       0.04132| 1.31639|-0.00428|  2.3E-4| NULL|    NULL| NULL| NULL|  NULL|NULL|     NULL|NULL|             NULL|   NULL|            NULL|      NULL|             NULL|              NULL|          NULL|         NULL|                   NULL|                   NULL|              NULL|          6|      48.22081|           29| 2675.70312| 125262.73438|    false|     1|    on track|      active|                      NULL|                      NULL|                      NULL|                      NULL|                    NULL|                    NULL|                    NULL|                    NULL|            NULL|            NULL|            NULL|            NULL|        NULL|        NULL|        NULL|        NULL|          NULL|          NULL|          NULL|          NULL|                NULL|                NULL|                NULL|                NULL|          NULL|          NULL|          NULL|          NULL|\n",
      "| 2464.76343|          52948|          4|    -532.85016|      34.22659|      23.79597|      40.81677|      -1.27123|       4.52112|           32534|            -991|            3765|         -3773|          -214|         32548|     -1.11445|           1.32466|       0.06793| 1.45532| 0.02929| 0.00655| NULL|    NULL| NULL| NULL|  NULL|NULL|     NULL|NULL|             NULL|   NULL|            NULL|      NULL|             NULL|              NULL|          NULL|         NULL|                   NULL|                   NULL|              NULL|         14|      11.74201|           29|  703.82031| 123290.85156|    false|     0|    on track|      active|                      NULL|                      NULL|                      NULL|                      NULL|                    NULL|                    NULL|                    NULL|                    NULL|            NULL|            NULL|            NULL|            NULL|        NULL|        NULL|        NULL|        NULL|          NULL|          NULL|          NULL|          NULL|                NULL|                NULL|                NULL|                NULL|          NULL|          NULL|          NULL|          NULL|\n",
      "| 2464.76343|          52948|          5|     375.01108|      29.93967|    -206.45154|       36.3383|       0.30254|      17.28083|           29498|             217|           14263|        -14262|          -184|         29499|     -2.28703|          -0.36748|      -0.00108| 1.12043|-0.00843| 0.00562| NULL|    NULL| NULL| NULL|  NULL|NULL|     NULL|NULL|             NULL|   NULL|            NULL|      NULL|             NULL|              NULL|          NULL|         NULL|                   NULL|                   NULL|              NULL|          5|       48.4398|           29| 2691.45312| 125278.48438|    false|     1|    on track|      active|                      NULL|                      NULL|                      NULL|                      NULL|                    NULL|                    NULL|                    NULL|                    NULL|            NULL|            NULL|            NULL|            NULL|        NULL|        NULL|        NULL|        NULL|          NULL|          NULL|          NULL|          NULL|                NULL|                NULL|                NULL|                NULL|          NULL|          NULL|          NULL|          NULL|\n",
      "| 2464.76343|          52948|          6|     109.21619|      36.47268|     504.89551|      14.80474|       1.04946|       37.4436|           11709|             819|           30592|        -30583|          -872|         11729|     -2.69905|          -0.41042|       0.08564| 0.36566|-0.03382| 0.02663| NULL|    NULL| NULL| NULL|  NULL|NULL|     NULL|NULL|             NULL|   NULL|            NULL|      NULL|             NULL|              NULL|          NULL|         NULL|                   NULL|                   NULL|              NULL|          1|      73.99699|           29| 4010.17188| 126597.20312|    false|     2|    on track|      active|                      NULL|                      NULL|                      NULL|                      NULL|                    NULL|                    NULL|                    NULL|                    NULL|            NULL|            NULL|            NULL|            NULL|        NULL|        NULL|        NULL|        NULL|          NULL|          NULL|          NULL|          NULL|                NULL|                NULL|                NULL|                NULL|          NULL|          NULL|          NULL|          NULL|\n",
      "| 2464.76343|          52948|          7|     450.47888|      36.21085|     210.02048|     -27.08735|       1.00524|      50.14937|          -16160|             626|           28497|        -28504|          -405|        -16155|     -2.66507|           0.71216|      -0.07995|-0.51576|-0.00132| 0.01236| NULL|    NULL| NULL| NULL|  NULL|NULL|     NULL|NULL|             NULL|   NULL|            NULL|      NULL|             NULL|              NULL|          NULL|         NULL|                   NULL|                   NULL|              NULL|          4|      58.00133|           29|   3152.375| 125739.40625|    false|     1|    on track|      active|                      NULL|                      NULL|                      NULL|                      NULL|                    NULL|                    NULL|                    NULL|                    NULL|            NULL|            NULL|            NULL|            NULL|        NULL|        NULL|        NULL|        NULL|          NULL|          NULL|          NULL|          NULL|                NULL|                NULL|                NULL|                NULL|          NULL|          NULL|          NULL|          NULL|\n",
      "| 2464.76343|          52948|          8|    -191.85931|      37.61925|     372.55472|        0.0069|       0.68984|       0.02519|          -20980|            -315|           25167|        -25168|           622|        -20972|          0.0|               0.0|           0.0|-0.69489| 0.00844|-0.01901| NULL|    NULL| NULL| NULL|  NULL|NULL|     NULL|NULL|             NULL|   NULL|            NULL|      NULL|             NULL|              NULL|          NULL|         NULL|                   NULL|                   NULL|              NULL|         20|     2117.4043|            4|   90.66113|  13224.98633|     true|     0|   in garage|        NULL|                      NULL|                      NULL|                      NULL|                      NULL|                    NULL|                    NULL|                    NULL|                    NULL|            NULL|            NULL|            NULL|            NULL|        NULL|        NULL|        NULL|        NULL|          NULL|          NULL|          NULL|          NULL|                NULL|                NULL|                NULL|                NULL|          NULL|          NULL|          NULL|          NULL|\n",
      "| 2464.76343|          52948|          9|    -507.73657|      33.37257|      28.08212|      46.65283|      -1.75355|       10.7061|           31904|           -1143|            7380|         -7392|          -215|         31921|     -0.90325|           1.25416|      -0.08207|  1.3431| 0.03251| 0.00658| NULL|    NULL| NULL| NULL|  NULL|NULL|     NULL|NULL|             NULL|   NULL|            NULL|      NULL|             NULL|              NULL|          NULL|         NULL|                   NULL|                   NULL|              NULL|         13|      12.34992|           29|  728.97656| 123316.00781|    false|     0|    on track|      active|                      NULL|                      NULL|                      NULL|                      NULL|                    NULL|                    NULL|                    NULL|                    NULL|            NULL|            NULL|            NULL|            NULL|        NULL|        NULL|        NULL|        NULL|          NULL|          NULL|          NULL|          NULL|                NULL|                NULL|                NULL|                NULL|          NULL|          NULL|          NULL|          NULL|\n",
      "| 2464.76343|          52948|         10|      74.09505|      37.89973|     583.91547|     -36.11448|       0.18768|      12.85928|          -30902|             173|           10893|        -10894|          -893|        -30889|     -2.08217|           0.77334|       -0.0192|-1.23186|-0.00408| 0.02727| NULL|    NULL| NULL| NULL|  NULL|NULL|     NULL|NULL|             NULL|   NULL|            NULL|      NULL|             NULL|              NULL|          NULL|         NULL|                   NULL|                   NULL|              NULL|         15|      79.60734|           28| 4112.64844| 122321.57812|    false|     2|    on track|      active|                      NULL|                      NULL|                      NULL|                      NULL|                    NULL|                    NULL|                    NULL|                    NULL|            NULL|            NULL|            NULL|            NULL|        NULL|        NULL|        NULL|        NULL|          NULL|          NULL|          NULL|          NULL|                NULL|                NULL|                NULL|                NULL|          NULL|          NULL|          NULL|          NULL|\n",
      "| 2464.76343|          52948|         11|     218.22099|      34.64286|     462.97015|     -28.98843|      -0.20902|      20.26721|          -26820|            -287|           18822|        -18815|          -607|        -26819|     -2.08326|           -2.0245|      -0.02673|-0.95904|-0.01784| 0.01855| NULL|    NULL| NULL| NULL|  NULL|NULL|     NULL|NULL|             NULL|   NULL|            NULL|      NULL|             NULL|              NULL|          NULL|         NULL|                   NULL|                   NULL|              NULL|          3|      61.88565|           29| 3495.57031| 126082.60156|    false|     2|    on track|      active|                      NULL|                      NULL|                      NULL|                      NULL|                    NULL|                    NULL|                    NULL|                    NULL|            NULL|            NULL|            NULL|            NULL|        NULL|        NULL|        NULL|        NULL|          NULL|          NULL|          NULL|          NULL|                NULL|                NULL|                NULL|                NULL|          NULL|          NULL|          NULL|          NULL|\n",
      "| 2464.76343|          52948|         12|    -365.01852|      26.46163|     104.83452|      53.86914|      -3.17363|      45.21898|           25025|           -1420|           21104|        -21142|          -695|         25023|     -0.28922|           0.59678|       0.03601| 0.86929| 0.01945| 0.02122| NULL|    NULL| NULL| NULL|  NULL|NULL|     NULL|NULL|             NULL|   NULL|            NULL|      NULL|             NULL|              NULL|          NULL|         NULL|                   NULL|                   NULL|              NULL|         12|       15.0235|           29|  892.57812| 123479.60938|    false|     0|    on track|      active|                      NULL|                      NULL|                      NULL|                      NULL|                    NULL|                    NULL|                    NULL|                    NULL|            NULL|            NULL|            NULL|            NULL|        NULL|        NULL|        NULL|        NULL|          NULL|          NULL|          NULL|          NULL|                NULL|                NULL|                NULL|                NULL|          NULL|          NULL|          NULL|          NULL|\n",
      "| 2464.76343|          52948|         13|    -174.74615|      21.04063|      217.4671|      25.72593|      -1.86396|     -15.35264|           28238|           -2063|          -16492|         16525|             3|         28294|      1.84376|           0.32522|      -0.06103| 2.10026| 0.05435| -9.0E-5| NULL|    NULL| NULL| NULL|  NULL|NULL|     NULL|NULL|             NULL|   NULL|            NULL|      NULL|             NULL|              NULL|          NULL|         NULL|                   NULL|                   NULL|              NULL|         10|      19.45417|           29|  1128.4375| 123715.46875|    false|     0|    on track|      active|                      NULL|                      NULL|                      NULL|                      NULL|                    NULL|                    NULL|                    NULL|                    NULL|            NULL|            NULL|            NULL|            NULL|        NULL|        NULL|        NULL|        NULL|          NULL|          NULL|          NULL|          NULL|                NULL|                NULL|                NULL|                NULL|          NULL|          NULL|          NULL|          NULL|\n",
      "| 2464.76343|          52948|         14|      83.36273|      37.82166|     579.81372|     -32.05002|       0.19326|      17.26075|          -28851|             171|           15531|        -15529|          -962|        -28837|     -2.19812|           0.50781|       0.11301|-1.07702|-0.00932| 0.02938| NULL|    NULL| NULL| NULL|  NULL|NULL|     NULL|NULL|             NULL|   NULL|            NULL|      NULL|             NULL|              NULL|          NULL|         NULL|                   NULL|                   NULL|              NULL|         16|      79.31193|           28| 4101.40625| 122310.33594|    false|     2|    on track|      active|                      NULL|                      NULL|                      NULL|                      NULL|                    NULL|                    NULL|                    NULL|                    NULL|            NULL|            NULL|            NULL|            NULL|        NULL|        NULL|        NULL|        NULL|          NULL|          NULL|          NULL|          NULL|                NULL|                NULL|                NULL|                NULL|          NULL|          NULL|          NULL|          NULL|\n",
      "| 2464.76343|          52948|         15|       104.744|      37.62367|      559.9173|     -18.93895|       0.59028|      29.80742|          -17560|             528|           27659|        -27662|          -744|        -17548|     -2.15471|           0.00156|       0.00558|-0.56563|-0.01054| 0.02273| NULL|    NULL| NULL| NULL|  NULL|NULL|     NULL|NULL|             NULL|   NULL|            NULL|      NULL|             NULL|              NULL|          NULL|         NULL|                   NULL|                   NULL|              NULL|         18|      78.48478|           28| 4070.29688| 122279.22656|    false|     2|    on track|      active|                      NULL|                      NULL|                      NULL|                      NULL|                    NULL|                    NULL|                    NULL|                    NULL|            NULL|            NULL|            NULL|            NULL|        NULL|        NULL|        NULL|        NULL|          NULL|          NULL|          NULL|          NULL|                NULL|                NULL|                NULL|                NULL|          NULL|          NULL|          NULL|          NULL|\n",
      "| 2464.76343|          52948|         16|      -9.61609|      17.22947|    -540.29633|      -4.38434|       0.27907|     -51.24537|           -2028|             105|          -32703|         32701|          -397|         -2029|     -3.20199|          -1.94958|       0.20471|-3.07964|  0.0123| 0.01213| NULL|    NULL| NULL| NULL|  NULL|NULL|     NULL|NULL|             NULL|   NULL|            NULL|      NULL|             NULL|              NULL|          NULL|         NULL|                   NULL|                   NULL|              NULL|          9|      33.39575|           29| 1982.27344| 124569.30469|    false|     1|    on track|      active|                      NULL|                      NULL|                      NULL|                      NULL|                    NULL|                    NULL|                    NULL|                    NULL|            NULL|            NULL|            NULL|            NULL|        NULL|        NULL|        NULL|        NULL|          NULL|          NULL|          NULL|          NULL|                NULL|                NULL|                NULL|                NULL|          NULL|          NULL|          NULL|          NULL|\n",
      "| 2464.76343|          52948|         17|      95.68321|      37.77534|     570.93439|     -25.50542|       0.15984|       24.2881|          -23752|             114|           22571|        -22567|          -789|        -23743|     -2.20026|            0.0565|       -0.0435|-0.81098|-0.01407|  0.0241| NULL|    NULL| NULL| NULL|  NULL|NULL|     NULL|NULL|             NULL|   NULL|            NULL|      NULL|             NULL|              NULL|          NULL|         NULL|                   NULL|                   NULL|              NULL|         17|      78.84708|           28| 4085.07031|     122294.0|    false|     2|    on track|      active|                      NULL|                      NULL|                      NULL|                      NULL|                    NULL|                    NULL|                    NULL|                    NULL|            NULL|            NULL|            NULL|            NULL|        NULL|        NULL|        NULL|        NULL|          NULL|          NULL|          NULL|          NULL|                NULL|                NULL|                NULL|                NULL|          NULL|          NULL|          NULL|          NULL|\n",
      "| 2464.76343|          52948|         18|    -347.66074|       25.3669|      121.7277|      53.16744|      -1.73178|      45.34202|           24943|            -802|           21233|        -21247|         -1335|         24908|      0.07303|           0.46301|       1.91303| 0.86524|-0.00779| 0.04075| NULL|    NULL| NULL| NULL|  NULL|NULL|     NULL|NULL|             NULL|   NULL|            NULL|      NULL|             NULL|              NULL|          NULL|         NULL|                   NULL|                   NULL|              NULL|         11|      15.45515|           29|  916.64844| 123503.67969|    false|     0|    on track|      active|                      NULL|                      NULL|                      NULL|                      NULL|                    NULL|                    NULL|                    NULL|                    NULL|            NULL|            NULL|            NULL|            NULL|        NULL|        NULL|        NULL|        NULL|          NULL|          NULL|          NULL|          NULL|                NULL|                NULL|                NULL|                NULL|          NULL|          NULL|          NULL|          NULL|\n",
      "| 2464.76343|          52948|         19|     104.55083|      36.21192|     492.18155|      26.24641|       1.20204|      37.65009|           18486|             804|           27041|        -27019|         -1097|         18504|     -2.80789|          -0.53232|      -0.04653| 0.60004|-0.04153| 0.03351| NULL|    NULL| NULL| NULL|  NULL|NULL|     NULL|NULL|             NULL|   NULL|            NULL|      NULL|             NULL|              NULL|          NULL|         NULL|                   NULL|                   NULL|              NULL|          2|      72.55483|           29| 3996.88281| 126583.91406|    false|     2|    on track|      active|                      NULL|                      NULL|                      NULL|                      NULL|                    NULL|                    NULL|                    NULL|                    NULL|            NULL|            NULL|            NULL|            NULL|        NULL|        NULL|        NULL|        NULL|          NULL|          NULL|          NULL|          NULL|                NULL|                NULL|                NULL|                NULL|          NULL|          NULL|          NULL|          NULL|\n",
      "| 2699.38452|          57867|          0|    -464.58282|      31.52256|      42.83383|       51.4963|       -2.3199|       21.3091|           30217|           -1297|           12605|        -12615|             4|         30241|     -1.12802|            0.9873|       -6.5E-4| 1.17531|  0.0366| -1.4E-4| NULL|    NULL| NULL| NULL|  NULL|NULL|     NULL|NULL|             NULL|   NULL|            NULL|      NULL|             NULL|              NULL|          NULL|         NULL|                   NULL|                   NULL|              NULL|          7|      13.26727|           32|  774.09375| 136495.45312|    false|     0|    on track|      active|                      NULL|                      NULL|                      NULL|                      NULL|                    NULL|                    NULL|                    NULL|                    NULL|            NULL|            NULL|            NULL|            NULL|        NULL|        NULL|        NULL|        NULL|          NULL|          NULL|          NULL|          NULL|                NULL|                NULL|                NULL|                NULL|          NULL|          NULL|          NULL|          NULL|\n",
      "| 2699.38452|          57867|          1|    -178.16989|      37.62358|     384.15463|        2.9E-4|       0.96914|       -9.9E-4|          -21524|             -23|           24705|        -24705|           -22|        -21524|          0.0|               0.0|           0.0|-0.71668| -9.9E-4|  6.8E-4| NULL|    NULL| NULL| NULL|  NULL|NULL|     NULL|NULL|             NULL|   NULL|            NULL|      NULL|             NULL|              NULL|          NULL|         NULL|                   NULL|                   NULL|              NULL|         19|     1889.8866|            7|   72.75977|  26341.41016|     true|     0|   in garage|        NULL|                      NULL|                      NULL|                      NULL|                      NULL|                    NULL|                    NULL|                    NULL|                    NULL|            NULL|            NULL|            NULL|            NULL|        NULL|        NULL|        NULL|        NULL|          NULL|          NULL|          NULL|          NULL|                NULL|                NULL|                NULL|                NULL|          NULL|          NULL|          NULL|          NULL|\n",
      "| 2699.38452|          57867|          2|    -594.74554|      35.43582|       43.5499|      12.24791|        0.0313|     -18.95835|           17215|             -39|          -27879|         27873|           754|         17210|     -1.51994|          -0.03279|      -0.10316|  2.5883|-0.01896|-0.02302| NULL|    NULL| NULL| NULL|  NULL|NULL|     NULL|NULL|             NULL|   NULL|            NULL|      NULL|             NULL|              NULL|          NULL|         NULL|                   NULL|                   NULL|              NULL|          8|       9.57582|           32|  631.15625| 136352.51562|    false|     0|    on track|      active|                      NULL|                      NULL|                      NULL|                      NULL|                    NULL|                    NULL|                    NULL|                    NULL|            NULL|            NULL|            NULL|            NULL|        NULL|        NULL|        NULL|        NULL|          NULL|          NULL|          NULL|          NULL|                NULL|                NULL|                NULL|                NULL|          NULL|          NULL|          NULL|          NULL|\n",
      "| 2699.38452|          57867|          3|    -123.80406|       3.76607|    -123.01786|       34.9746|       0.83114|     -66.42337|           15224|             457|          -29011|         29011|          -795|         15212|      0.06783|            0.3604|       0.06608|  2.6583|   0.015| 0.02427| NULL|    NULL| NULL| NULL|  NULL|NULL|     NULL|NULL|             NULL|   NULL|            NULL|      NULL|             NULL|              NULL|          NULL|         NULL|                   NULL|                   NULL|              NULL|          5|       26.0989|           32| 1515.21875| 137236.57812|    false|     0|    on track|      active|                      NULL|                      NULL|                      NULL|                      NULL|                    NULL|                    NULL|                    NULL|                    NULL|            NULL|            NULL|            NULL|            NULL|        NULL|        NULL|        NULL|        NULL|          NULL|          NULL|          NULL|          NULL|                NULL|                NULL|                NULL|                NULL|          NULL|          NULL|          NULL|          NULL|\n",
      "| 2699.38452|          57867|          4|      41.31264|      28.27794|     337.51434|     -36.33355|      -0.07278|     -13.21662|          -30844|            -115|          -11059|         11049|         -1703|        -30800|      2.53795|          -1.90854|       0.45403| -1.9148| 0.01424|   0.052| NULL|    NULL| NULL| NULL|  NULL|NULL|     NULL|NULL|             NULL|   NULL|            NULL|      NULL|             NULL|              NULL|          NULL|         NULL|                   NULL|                   NULL|              NULL|         14|      68.48661|           31| 3733.48438| 135076.73438|    false|     2|    on track|      active|                      NULL|                      NULL|                      NULL|                      NULL|                    NULL|                    NULL|                    NULL|                    NULL|            NULL|            NULL|            NULL|            NULL|        NULL|        NULL|        NULL|        NULL|          NULL|          NULL|          NULL|          NULL|                NULL|                NULL|                NULL|                NULL|          NULL|          NULL|          NULL|          NULL|\n",
      "| 2699.38452|          57867|          5|    -153.26228|       3.64122|     -72.13789|      35.33614|      -0.34428|     -60.82218|           16475|             -73|          -28323|         28312|          -873|         16471|      0.18207|           0.46191|       0.16522| 2.61457| 0.02418| 0.02667| NULL|    NULL| NULL| NULL|  NULL|NULL|     NULL|NULL|             NULL|   NULL|            NULL|      NULL|             NULL|              NULL|          NULL|         NULL|                   NULL|                   NULL|              NULL|          6|      26.29061|           32| 1456.46875| 137177.82812|    false|     0|    on track|      active|                      NULL|                      NULL|                      NULL|                      NULL|                    NULL|                    NULL|                    NULL|                    NULL|            NULL|            NULL|            NULL|            NULL|        NULL|        NULL|        NULL|        NULL|          NULL|          NULL|          NULL|          NULL|                NULL|                NULL|                NULL|                NULL|          NULL|          NULL|          NULL|          NULL|\n",
      "| 2699.38452|          57867|          6|     394.20377|      32.97471|       2.27348|       10.9642|       0.97692|      65.63126|            5989|             592|           32209|        -32205|          -686|          6001|      3.50403|           0.51562|      -0.08758| 0.18387| -0.0239| 0.02094| NULL|    NULL| NULL| NULL|  NULL|NULL|     NULL|NULL|             NULL|   NULL|            NULL|      NULL|             NULL|              NULL|          NULL|         NULL|                   NULL|                   NULL|              NULL|          2|      52.80311|           32| 2921.26562|   138642.625|    false|     1|    on track|      active|                      NULL|                      NULL|                      NULL|                      NULL|                    NULL|                    NULL|                    NULL|                    NULL|            NULL|            NULL|            NULL|            NULL|        NULL|        NULL|        NULL|        NULL|          NULL|          NULL|          NULL|          NULL|                NULL|                NULL|                NULL|                NULL|          NULL|          NULL|          NULL|          NULL|\n",
      "| 2699.38452|          57867|          7|      -9.34937|      17.36543|    -556.32379|       5.20513|       0.62919|     -45.67289|            4103|             404|          -32506|         32506|          -417|          4098|     -2.78618|          -1.72741|        0.1042| 3.01601| 0.01109| 0.01273| NULL|    NULL| NULL| NULL|  NULL|NULL|     NULL|NULL|             NULL|   NULL|            NULL|      NULL|             NULL|              NULL|          NULL|         NULL|                   NULL|                   NULL|              NULL|          4|      33.77206|           32| 1998.35938| 137719.71875|    false|     1|    on track|      active|                      NULL|                      NULL|                      NULL|                      NULL|                    NULL|                    NULL|                    NULL|                    NULL|            NULL|            NULL|            NULL|            NULL|        NULL|        NULL|        NULL|        NULL|          NULL|          NULL|          NULL|          NULL|                NULL|                NULL|                NULL|                NULL|          NULL|          NULL|          NULL|          NULL|\n",
      "| 2699.38452|          57867|          8|    -191.85931|      37.61925|     372.55472|       0.00686|       0.69054|       0.02534|          -20980|            -315|           25167|        -25168|           622|        -20972|          0.0|               0.0|           0.0|-0.69489| 0.00844|-0.01901| NULL|    NULL| NULL| NULL|  NULL|NULL|     NULL|NULL|             NULL|   NULL|            NULL|      NULL|             NULL|              NULL|          NULL|         NULL|                   NULL|                   NULL|              NULL|         20|    2132.06909|            4|   90.66113|  13224.98633|     true|     0|   in garage|        NULL|                      NULL|                      NULL|                      NULL|                      NULL|                    NULL|                    NULL|                    NULL|                    NULL|            NULL|            NULL|            NULL|            NULL|        NULL|        NULL|        NULL|        NULL|          NULL|          NULL|          NULL|          NULL|                NULL|                NULL|                NULL|                NULL|          NULL|          NULL|          NULL|          NULL|\n",
      "| 2699.38452|          57867|          9|      19.46176|      28.48752|     333.94394|     -28.31778|        0.2708|       1.86017|          -32714|             262|            1829|         -1830|          -106|        -32715|      1.96884|          -0.41522|       0.00798|-1.51489| 0.00782| 0.00326| NULL|    NULL| NULL| NULL|  NULL|NULL|     NULL|NULL|             NULL|   NULL|            NULL|      NULL|             NULL|              NULL|          NULL|         NULL|                   NULL|                   NULL|              NULL|         13|      69.23125|           31| 3756.59375| 135099.84375|    false|     2|    on track|      active|                      NULL|                      NULL|                      NULL|                      NULL|                    NULL|                    NULL|                    NULL|                    NULL|            NULL|            NULL|            NULL|            NULL|        NULL|        NULL|        NULL|        NULL|          NULL|          NULL|          NULL|          NULL|                NULL|                NULL|                NULL|                NULL|          NULL|          NULL|          NULL|          NULL|\n",
      "| 2699.38452|          57867|         10|     279.61414|      29.23606|    -236.02283|      28.55406|       0.27221|      26.68347|           24052|             224|           22251|        -22250|          -159|         24053|      2.51975|          -0.27925|       0.34956| 0.82429|-0.00834| 0.00487| NULL|    NULL| NULL| NULL|  NULL|NULL|     NULL|NULL|             NULL|   NULL|            NULL|      NULL|             NULL|              NULL|          NULL|         NULL|                   NULL|                   NULL|              NULL|         17|      47.39444|           31| 2587.59375| 133930.84375|    false|     1|    on track|      active|                      NULL|                      NULL|                      NULL|                      NULL|                    NULL|                    NULL|                    NULL|                    NULL|            NULL|            NULL|            NULL|            NULL|        NULL|        NULL|        NULL|        NULL|          NULL|          NULL|          NULL|          NULL|                NULL|                NULL|                NULL|                NULL|          NULL|          NULL|          NULL|          NULL|\n",
      "| 2699.38452|          57867|         11|     240.02975|      27.80064|     -458.2587|      21.62669|       0.22937|      28.89525|           19804|             112|           26104|        -26098|          -591|         19803|     -1.83972|          -2.19261|       -0.0169| 0.64914|-0.01645| 0.01804| NULL|    NULL| NULL| NULL|  NULL|NULL|     NULL|NULL|             NULL|   NULL|            NULL|      NULL|             NULL|              NULL|          NULL|         NULL|                   NULL|                   NULL|              NULL|          3|      40.45164|           32| 2344.65625| 138066.01562|    false|     1|    on track|      active|                      NULL|                      NULL|                      NULL|                      NULL|                    NULL|                    NULL|                    NULL|                    NULL|            NULL|            NULL|            NULL|            NULL|        NULL|        NULL|        NULL|        NULL|          NULL|          NULL|          NULL|          NULL|                NULL|                NULL|                NULL|                NULL|          NULL|          NULL|          NULL|          NULL|\n",
      "| 2699.38452|          57867|         12|     -12.26775|      30.23467|     393.17236|      13.57879|       1.16528|      29.43892|           13811|            1167|           29690|        -29708|           -90|         13823|       1.6739|           0.77906|      -0.05891| 0.43518|-0.01755| 0.00278| NULL|    NULL| NULL| NULL|  NULL|NULL|     NULL|NULL|             NULL|   NULL|            NULL|      NULL|             NULL|              NULL|          NULL|         NULL|                   NULL|                   NULL|              NULL|         12|      72.22356|           31| 3843.67188| 135186.92188|    false|     2|    on track|      active|                      NULL|                      NULL|                      NULL|                      NULL|                    NULL|                    NULL|                    NULL|                    NULL|            NULL|            NULL|            NULL|            NULL|        NULL|        NULL|        NULL|        NULL|          NULL|          NULL|          NULL|          NULL|                NULL|                NULL|                NULL|                NULL|          NULL|          NULL|          NULL|          NULL|\n",
      "| 2699.38452|          57867|         13|      98.71173|      37.73702|     567.84369|     -24.20711|        0.3338|      26.72074|          -22032|             281|           24252|        -24250|          -797|        -22021|      -2.2519|           0.10064|      -0.09076|-0.73749|-0.01223| 0.02433| NULL|    NULL| NULL| NULL|  NULL|NULL|     NULL|NULL|             NULL|   NULL|            NULL|      NULL|             NULL|              NULL|          NULL|         NULL|                   NULL|                   NULL|              NULL|         10|      77.30042|           31| 4080.64062| 135423.89062|    false|     2|    on track|      active|                      NULL|                      NULL|                      NULL|                      NULL|                    NULL|                    NULL|                    NULL|                    NULL|            NULL|            NULL|            NULL|            NULL|        NULL|        NULL|        NULL|        NULL|          NULL|          NULL|          NULL|          NULL|                NULL|                NULL|                NULL|                NULL|          NULL|          NULL|          NULL|          NULL|\n",
      "| 2699.38452|          57867|         14|     413.49503|      31.01634|    -137.13223|      -1.52082|       0.66038|      47.64574|           -1826|             482|           32712|        -32712|          -474|         -1819|     -2.45483|           1.15528|      -0.04081|-0.05579|-0.01364| 0.01448| NULL|    NULL| NULL| NULL|  NULL|NULL|     NULL|NULL|             NULL|   NULL|            NULL|      NULL|             NULL|              NULL|          NULL|         NULL|                   NULL|                   NULL|              NULL|         15|      50.98858|           31| 2779.10938| 134122.35938|    false|     1|    on track|      active|                      NULL|                      NULL|                      NULL|                      NULL|                    NULL|                    NULL|                    NULL|                    NULL|            NULL|            NULL|            NULL|            NULL|        NULL|        NULL|        NULL|        NULL|          NULL|          NULL|          NULL|          NULL|                NULL|                NULL|                NULL|                NULL|          NULL|          NULL|          NULL|          NULL|\n",
      "| 2699.38452|          57867|         15|     270.49261|      29.16303|     -246.3972|      23.89736|       0.22392|      32.99813|           19355|             147|           26438|        -26439|            -1|         19355|      2.23154|          -0.65432|       0.01832| 0.63194|-0.00271|  6.0E-5| NULL|    NULL| NULL| NULL|  NULL|NULL|     NULL|NULL|             NULL|   NULL|            NULL|      NULL|             NULL|              NULL|          NULL|         NULL|                   NULL|                   NULL|              NULL|         18|      47.15361|           31| 2572.48438| 133915.73438|    false|     1|    on track|      active|                      NULL|                      NULL|                      NULL|                      NULL|                    NULL|                    NULL|                    NULL|                    NULL|            NULL|            NULL|            NULL|            NULL|        NULL|        NULL|        NULL|        NULL|          NULL|          NULL|          NULL|          NULL|                NULL|                NULL|                NULL|                NULL|          NULL|          NULL|          NULL|          NULL|\n",
      "| 2699.38452|          57867|         16|      -598.245|      35.42959|      50.70736|       6.46921|       0.00139|     -21.29183|            8491|             -61|          -31647|         31646|           297|          8490|     -1.72784|          -0.42974|      -0.01243| 2.87944| -0.0083|-0.00909| NULL|    NULL| NULL| NULL|  NULL|NULL|     NULL|NULL|             NULL|   NULL|            NULL|      NULL|             NULL|              NULL|          NULL|         NULL|                   NULL|                   NULL|              NULL|          9|        9.2567|           32|    620.375| 136341.73438|    false|     0|    on track|      active|                      NULL|                      NULL|                      NULL|                      NULL|                    NULL|                    NULL|                    NULL|                    NULL|            NULL|            NULL|            NULL|            NULL|        NULL|        NULL|        NULL|        NULL|          NULL|          NULL|          NULL|          NULL|                NULL|                NULL|                NULL|                NULL|          NULL|          NULL|          NULL|          NULL|\n",
      "| 2699.38452|          57867|         17|     398.40994|      30.15803|    -188.10008|      24.16671|       0.38457|      30.18358|           20213|             324|           25787|        -25780|          -602|         20215|     -2.91461|           0.47347|       0.67126| 0.66494| -0.0206|  0.0184| NULL|    NULL| NULL| NULL|  NULL|NULL|     NULL|NULL|             NULL|   NULL|            NULL|      NULL|             NULL|              NULL|          NULL|         NULL|                   NULL|                   NULL|              NULL|         16|       49.9081|           31| 2723.46875| 134066.71875|    false|     1|    on track|      active|                      NULL|                      NULL|                      NULL|                      NULL|                    NULL|                    NULL|                    NULL|                    NULL|            NULL|            NULL|            NULL|            NULL|        NULL|        NULL|        NULL|        NULL|          NULL|          NULL|          NULL|          NULL|                NULL|                NULL|                NULL|                NULL|          NULL|          NULL|          NULL|          NULL|\n",
      "| 2699.38452|          57867|         18|      -4.41677|      30.78424|     406.19702|      21.62972|       1.21947|      28.41714|           19827|            1126|           26062|        -26076|           -96|         19841|      1.69178|           0.93331|      -0.00577| 0.65011|-0.02317| 0.00295| NULL|    NULL| NULL| NULL|  NULL|NULL|     NULL|NULL|             NULL|   NULL|            NULL|      NULL|             NULL|              NULL|          NULL|         NULL|                   NULL|                   NULL|              NULL|         11|      72.60578|           31| 3858.65625| 135201.90625|    false|     2|    on track|      active|                      NULL|                      NULL|                      NULL|                      NULL|                    NULL|                    NULL|                    NULL|                    NULL|            NULL|            NULL|            NULL|            NULL|        NULL|        NULL|        NULL|        NULL|          NULL|          NULL|          NULL|          NULL|                NULL|                NULL|                NULL|                NULL|          NULL|          NULL|          NULL|          NULL|\n",
      "| 2699.38452|          57867|         19|     342.11813|      35.53578|     332.85712|     -48.70575|      -1.83481|      52.61571|          -22269|            -838|           24021|        -24009|          -771|        -22285|     -0.14884|           0.41477|      -0.13131|-0.74783|-0.03467| 0.02354| NULL|    NULL| NULL| NULL|  NULL|NULL|     NULL|NULL|             NULL|   NULL|            NULL|      NULL|             NULL|              NULL|          NULL|         NULL|                   NULL|                   NULL|              NULL|          1|      57.92511|           32| 3316.09375| 139037.45312|    false|     2|    on track|      active|                      NULL|                      NULL|                      NULL|                      NULL|                    NULL|                    NULL|                    NULL|                    NULL|            NULL|            NULL|            NULL|            NULL|        NULL|        NULL|        NULL|        NULL|          NULL|          NULL|          NULL|          NULL|                NULL|                NULL|                NULL|                NULL|          NULL|          NULL|          NULL|          NULL|\n",
      "+-----------+---------------+-----------+--------------+--------------+--------------+--------------+--------------+--------------+----------------+----------------+----------------+--------------+--------------+--------------+-------------+------------------+--------------+--------+--------+--------+-----+--------+-----+-----+------+----+---------+----+-----------------+-------+----------------+----------+-----------------+------------------+--------------+-------------+-----------------------+-----------------------+------------------+-----------+--------------+-------------+-----------+-------------+---------+------+------------+------------+--------------------------+--------------------------+--------------------------+--------------------------+------------------------+------------------------+------------------------+------------------------+----------------+----------------+----------------+----------------+------------+------------+------------+------------+--------------+--------------+--------------+--------------+--------------------+--------------------+--------------------+--------------------+--------------+--------------+--------------+--------------+\n",
      "\n"
     ]
    },
    {
     "name": "stderr",
     "output_type": "stream",
     "text": [
      "                                                                                \r"
     ]
    }
   ],
   "source": [
    "df.filter(df[\"speed\"].isNull()).show(n=100)"
   ]
  },
  {
   "cell_type": "code",
   "execution_count": 16,
   "metadata": {},
   "outputs": [
    {
     "name": "stderr",
     "output_type": "stream",
     "text": [
      "[Stage 24:=================================================>      (16 + 2) / 18]\r"
     ]
    },
    {
     "name": "stdout",
     "output_type": "stream",
     "text": [
      "+-----------+---------------+-----------+--------------+--------------+--------------+--------------+--------------+--------------+----------------+----------------+----------------+--------------+--------------+--------------+-------------+------------------+--------------+---+-----+----+-----+--------+-----+-----+------+----+---------+---+-----------------+-------+----------------+----------+-----------------+------------------+--------------+-------------+-----------------------+-----------------------+------------------+-----------+--------------+-------------+-----------+-------------+---------+------+------------+------------+--------------------------+--------------------------+--------------------------+--------------------------+------------------------+------------------------+------------------------+------------------------+----------------+----------------+----------------+----------------+------------+------------+------------+------------+--------------+--------------+--------------+--------------+--------------------+--------------------+--------------------+--------------------+--------------+--------------+--------------+--------------+---------------------+\n",
      "|sessionTime|frameIdentifier|pilot_index|worldPositionX|worldPositionY|worldPositionZ|worldVelocityX|worldVelocityY|worldVelocityZ|worldForwardDirX|worldForwardDirY|worldForwardDirZ|worldRightDirX|worldRightDirY|worldRightDirZ|gForceLateral|gForceLongitudinal|gForceVertical|yaw|pitch|roll|speed|throttle|steer|brake|clutch|gear|engineRPM|drs|engineTemperature|fuelMix|pitLimiterStatus|fuelInTank|fuelRemainingLaps|actualTyreCompound|ersStoreEnergy|ersDeployMode|ersHarvestedThisLapMGUK|ersHarvestedThisLapMGUH|ersDeployedThisLap|carPosition|currentLapTime|currentLapNum|lapDistance|totalDistance|pitStatus|sector|driverStatus|resultStatus|FL_tyresSurfaceTemperature|FR_tyresSurfaceTemperature|RL_tyresSurfaceTemperature|RR_tyresSurfaceTemperature|FL_tyresInnerTemperature|FR_tyresInnerTemperature|RL_tyresInnerTemperature|RR_tyresInnerTemperature|FL_tyresPressure|FR_tyresPressure|RL_tyresPressure|RR_tyresPressure|FL_tyresWear|FR_tyresWear|RL_tyresWear|RR_tyresWear|FL_tyresDamage|FR_tyresDamage|RL_tyresDamage|RR_tyresDamage|FL_brakesTemperature|FR_brakesTemperature|RL_brakesTemperature|RR_brakesTemperature|FL_surfaceType|FR_surfaceType|RL_surfaceType|RR_surfaceType|FL_surfaceType_filled|\n",
      "+-----------+---------------+-----------+--------------+--------------+--------------+--------------+--------------+--------------+----------------+----------------+----------------+--------------+--------------+--------------+-------------+------------------+--------------+---+-----+----+-----+--------+-----+-----+------+----+---------+---+-----------------+-------+----------------+----------+-----------------+------------------+--------------+-------------+-----------------------+-----------------------+------------------+-----------+--------------+-------------+-----------+-------------+---------+------+------------+------------+--------------------------+--------------------------+--------------------------+--------------------------+------------------------+------------------------+------------------------+------------------------+----------------+----------------+----------------+----------------+------------+------------+------------+------------+--------------+--------------+--------------+--------------+--------------------+--------------------+--------------------+--------------------+--------------+--------------+--------------+--------------+---------------------+\n",
      "|          0|              0|          0|             0|             0|             0|             0|             0|             0|               0|               0|               0|             0|             0|             0|            0|                 0|             0|  0|    0|   0|   80|      80|   80|   80|    80|  80|       80| 80|               80|    200|             200|       200|              200|               200|           200|          200|                    200|                    200|               200|          0|             0|            0|          0|            0|        0|     0|           0|       97150|                        80|                        80|                        80|                        80|                      80|                      80|                      80|                      80|              80|              80|              80|              80|         200|         200|         200|         200|           200|           200|           200|           200|                  80|                  80|                  80|                  80|             0|            80|            80|            80|                    0|\n",
      "+-----------+---------------+-----------+--------------+--------------+--------------+--------------+--------------+--------------+----------------+----------------+----------------+--------------+--------------+--------------+-------------+------------------+--------------+---+-----+----+-----+--------+-----+-----+------+----+---------+---+-----------------+-------+----------------+----------+-----------------+------------------+--------------+-------------+-----------------------+-----------------------+------------------+-----------+--------------+-------------+-----------+-------------+---------+------+------------+------------+--------------------------+--------------------------+--------------------------+--------------------------+------------------------+------------------------+------------------------+------------------------+----------------+----------------+----------------+----------------+------------+------------+------------+------------+--------------+--------------+--------------+--------------+--------------------+--------------------+--------------------+--------------------+--------------+--------------+--------------+--------------+---------------------+\n",
      "\n"
     ]
    },
    {
     "name": "stderr",
     "output_type": "stream",
     "text": [
      "                                                                                \r"
     ]
    }
   ],
   "source": [
    "# Calculating NULL values per column\n",
    "\n",
    "df.select([sum(when(col(c).isNull(), 1).otherwise(0)).alias(c) for c in df.columns]).show()\n"
   ]
  },
  {
   "cell_type": "code",
   "execution_count": 38,
   "metadata": {},
   "outputs": [
    {
     "name": "stdout",
     "output_type": "stream",
     "text": [
      "root\n",
      " |-- sessionTime: double (nullable = true)\n",
      " |-- frameIdentifier: integer (nullable = true)\n",
      " |-- pilot_index: integer (nullable = true)\n",
      " |-- worldPositionX: double (nullable = true)\n",
      " |-- worldPositionY: double (nullable = true)\n",
      " |-- worldPositionZ: double (nullable = true)\n",
      " |-- worldVelocityX: double (nullable = true)\n",
      " |-- worldVelocityY: double (nullable = true)\n",
      " |-- worldVelocityZ: double (nullable = true)\n",
      " |-- worldForwardDirX: integer (nullable = true)\n",
      " |-- worldForwardDirY: integer (nullable = true)\n",
      " |-- worldForwardDirZ: integer (nullable = true)\n",
      " |-- worldRightDirX: integer (nullable = true)\n",
      " |-- worldRightDirY: integer (nullable = true)\n",
      " |-- worldRightDirZ: integer (nullable = true)\n",
      " |-- gForceLateral: double (nullable = true)\n",
      " |-- gForceLongitudinal: double (nullable = true)\n",
      " |-- gForceVertical: double (nullable = true)\n",
      " |-- yaw: double (nullable = true)\n",
      " |-- pitch: double (nullable = true)\n",
      " |-- roll: double (nullable = true)\n",
      " |-- speed: double (nullable = true)\n",
      " |-- throttle: double (nullable = true)\n",
      " |-- steer: double (nullable = true)\n",
      " |-- brake: double (nullable = true)\n",
      " |-- clutch: double (nullable = true)\n",
      " |-- gear: double (nullable = true)\n",
      " |-- engineRPM: double (nullable = true)\n",
      " |-- drs: double (nullable = true)\n",
      " |-- engineTemperature: double (nullable = true)\n",
      " |-- fuelMix: double (nullable = true)\n",
      " |-- pitLimiterStatus: double (nullable = true)\n",
      " |-- fuelInTank: double (nullable = true)\n",
      " |-- fuelRemainingLaps: double (nullable = true)\n",
      " |-- actualTyreCompound: string (nullable = true)\n",
      " |-- ersStoreEnergy: double (nullable = true)\n",
      " |-- ersDeployMode: double (nullable = true)\n",
      " |-- ersHarvestedThisLapMGUK: double (nullable = true)\n",
      " |-- ersHarvestedThisLapMGUH: double (nullable = true)\n",
      " |-- ersDeployedThisLap: double (nullable = true)\n",
      " |-- carPosition: integer (nullable = true)\n",
      " |-- currentLapTime: double (nullable = true)\n",
      " |-- currentLapNum: integer (nullable = true)\n",
      " |-- lapDistance: double (nullable = true)\n",
      " |-- totalDistance: double (nullable = true)\n",
      " |-- pitStatus: boolean (nullable = false)\n",
      " |-- sector: integer (nullable = true)\n",
      " |-- driverStatus: string (nullable = true)\n",
      " |-- resultStatus: string (nullable = true)\n",
      " |-- FL_tyresSurfaceTemperature: double (nullable = true)\n",
      " |-- FR_tyresSurfaceTemperature: double (nullable = true)\n",
      " |-- RL_tyresSurfaceTemperature: double (nullable = true)\n",
      " |-- RR_tyresSurfaceTemperature: double (nullable = true)\n",
      " |-- FL_tyresInnerTemperature: double (nullable = true)\n",
      " |-- FR_tyresInnerTemperature: double (nullable = true)\n",
      " |-- RL_tyresInnerTemperature: double (nullable = true)\n",
      " |-- RR_tyresInnerTemperature: double (nullable = true)\n",
      " |-- FL_tyresPressure: double (nullable = true)\n",
      " |-- FR_tyresPressure: double (nullable = true)\n",
      " |-- RL_tyresPressure: double (nullable = true)\n",
      " |-- RR_tyresPressure: double (nullable = true)\n",
      " |-- FL_tyresWear: double (nullable = true)\n",
      " |-- FR_tyresWear: double (nullable = true)\n",
      " |-- RL_tyresWear: double (nullable = true)\n",
      " |-- RR_tyresWear: double (nullable = true)\n",
      " |-- FL_tyresDamage: double (nullable = true)\n",
      " |-- FR_tyresDamage: double (nullable = true)\n",
      " |-- RL_tyresDamage: double (nullable = true)\n",
      " |-- RR_tyresDamage: double (nullable = true)\n",
      " |-- FL_brakesTemperature: double (nullable = true)\n",
      " |-- FR_brakesTemperature: double (nullable = true)\n",
      " |-- RL_brakesTemperature: double (nullable = true)\n",
      " |-- RR_brakesTemperature: double (nullable = true)\n",
      " |-- FL_surfaceType: double (nullable = true)\n",
      " |-- FR_surfaceType: double (nullable = true)\n",
      " |-- RL_surfaceType: double (nullable = true)\n",
      " |-- RR_surfaceType: double (nullable = true)\n",
      "\n"
     ]
    }
   ],
   "source": [
    "df.printSchema()"
   ]
  },
  {
   "cell_type": "code",
   "execution_count": 65,
   "metadata": {},
   "outputs": [
    {
     "name": "stdout",
     "output_type": "stream",
     "text": [
      "+-----------+---------------+-----------+--------------+--------------+--------------+--------------+--------------+--------------+----------------+----------------+----------------+--------------+--------------+--------------+-------------+------------------+--------------+-------+-------+-------+-----+--------+-----+-----+------+----+---------+---+-----------------+-------+----------------+----------+-----------------+------------------+--------------+-------------+-----------------------+-----------------------+------------------+-----------+--------------+-------------+-----------+-------------+------+------------+---------+-------+------+--------------------------+--------------------------+--------------------------+--------------------------+------------------------+------------------------+------------------------+------------------------+----------------+----------------+----------------+----------------+------------+------------+------------+------------+--------------+--------------+--------------+--------------+--------------------+--------------------+--------------------+--------------------+--------------+--------------+--------------+--------------+\n",
      "|sessionTime|frameIdentifier|pilot_index|worldPositionX|worldPositionY|worldPositionZ|worldVelocityX|worldVelocityY|worldVelocityZ|worldForwardDirX|worldForwardDirY|worldForwardDirZ|worldRightDirX|worldRightDirY|worldRightDirZ|gForceLateral|gForceLongitudinal|gForceVertical|    yaw|  pitch|   roll|speed|throttle|steer|brake|clutch|gear|engineRPM|drs|engineTemperature|fuelMix|pitLimiterStatus|fuelInTank|fuelRemainingLaps|actualTyreCompound|ersStoreEnergy|ersDeployMode|ersHarvestedThisLapMGUK|ersHarvestedThisLapMGUH|ersDeployedThisLap|carPosition|currentLapTime|currentLapNum|lapDistance|totalDistance|sector|driverStatus|inPitArea|pitting|active|FL_tyresSurfaceTemperature|FR_tyresSurfaceTemperature|RL_tyresSurfaceTemperature|RR_tyresSurfaceTemperature|FL_tyresInnerTemperature|FR_tyresInnerTemperature|RL_tyresInnerTemperature|RR_tyresInnerTemperature|FL_tyresPressure|FR_tyresPressure|RL_tyresPressure|RR_tyresPressure|FL_tyresWear|FR_tyresWear|RL_tyresWear|RR_tyresWear|FL_tyresDamage|FR_tyresDamage|RL_tyresDamage|RR_tyresDamage|FL_brakesTemperature|FR_brakesTemperature|RL_brakesTemperature|RR_brakesTemperature|FL_surfaceType|FR_surfaceType|RL_surfaceType|RR_surfaceType|\n",
      "+-----------+---------------+-----------+--------------+--------------+--------------+--------------+--------------+--------------+----------------+----------------+----------------+--------------+--------------+--------------+-------------+------------------+--------------+-------+-------+-------+-----+--------+-----+-----+------+----+---------+---+-----------------+-------+----------------+----------+-----------------+------------------+--------------+-------------+-----------------------+-----------------------+------------------+-----------+--------------+-------------+-----------+-------------+------+------------+---------+-------+------+--------------------------+--------------------------+--------------------------+--------------------------+------------------------+------------------------+------------------------+------------------------+----------------+----------------+----------------+----------------+------------+------------+------------+------------+--------------+--------------+--------------+--------------+--------------------+--------------------+--------------------+--------------------+--------------+--------------+--------------+--------------+\n",
      "|    0.01142|              0|          0|    -409.92712|       0.30248|     404.26239|      -0.00211|        4.3E-4|      -0.00181|           25938|            -107|          -20021|         20021|             2|         25938|      0.04282|          -0.00756|       0.00708|2.22814|0.00256|-8.0E-5|    0|     0.0|  0.0|  0.0|     0|   0|     3482|  0|               90|    1.0|             0.0|  59.11937|          3.05168|                 0|     4000000.0|          1.0|                    0.0|                    0.0|               0.0|         17|           0.0|            1|  -62.52197|    -62.52197|     2|    on track|    false|  false|  true|                      84.0|                      84.0|                      89.0|                      89.0|                    84.0|                    84.0|                    89.0|                    89.0|            21.5|            21.5|            23.0|            23.0|         0.0|         0.0|         0.0|         0.0|           0.0|           0.0|           0.0|           0.0|                33.0|                33.0|                33.0|                33.0|             0|             0|             0|             0|\n",
      "|    0.01142|              0|          1|    -308.75729|       0.30076|     326.33527|      -0.00222|       -7.7E-4|      -0.00159|           25909|            -108|          -20059|         20059|            -5|         25909|       0.0042|            0.0022|      -0.01747|2.22962| 0.0027| 1.6E-4|    0|     0.0|  0.0|  0.0|     0|   0|     4282|  0|               90|    2.0|             0.0|  60.55943|          3.83238|                 0|     4000000.0|          1.0|                    0.0|                    0.0|               0.0|          1|           0.0|            1|   65.18314|     65.18314|     0|    on track|    false|  false|  true|                      84.0|                      84.0|                      89.0|                      89.0|                    84.0|                    84.0|                    89.0|                    89.0|            21.5|            21.5|            23.0|            23.0|         0.0|         0.0|         0.0|         0.0|           0.0|           0.0|           0.0|           0.0|                33.0|                33.0|                33.0|                33.0|             0|             0|             0|             0|\n",
      "|    0.01142|              0|          2|    -334.10248|       0.29022|     345.90079|      -0.00203|        9.7E-4|      -0.00101|           25910|            -107|          -20057|         20057|            -4|         25910|      0.00603|            1.5E-4|       0.01518|2.22955|0.00268| 1.3E-4|    0|     0.0|  0.0|  0.0|     0|   0|     3482|  0|               90|    2.0|             0.0|  58.74995|          2.87431|                 0|     4000000.0|          2.0|                    0.0|                    0.0|               0.0|          5|           0.0|            1|   33.16076|     33.16076|     0|    on track|    false|  false|  true|                      84.0|                      84.0|                      89.0|                      89.0|                    84.0|                    84.0|                    89.0|                    89.0|            21.5|            21.5|            23.0|            23.0|         0.0|         0.0|         0.0|         0.0|           0.0|           0.0|           0.0|           0.0|                33.0|                33.0|                33.0|                33.0|             0|             0|             0|             0|\n",
      "|    0.01142|              0|          3|    -384.56311|       0.29477|     384.73779|       0.00171|       -4.9E-4|       0.00168|           25928|            -107|          -20035|         20035|             0|         25928|      -0.0426|           0.00782|      -0.00924|2.22868|0.00259|-2.0E-5|    0|     0.0|  0.0|  0.0|     0|   0|     3782|  0|               90|    1.0|             0.0|  57.42995|          2.16822|                 0|     4000000.0|          1.0|                    0.0|                    0.0|               0.0|         13|           0.0|            1|  -30.52051|    -30.52051|     2|    on track|    false|  false|  true|                      84.0|                      84.0|                      89.0|                      89.0|                    84.0|                    84.0|                    89.0|                    89.0|            21.5|            21.5|            23.0|            23.0|         0.0|         0.0|         0.0|         0.0|           0.0|           0.0|           0.0|           0.0|                33.0|                33.0|                33.0|                33.0|             0|             0|             0|             0|\n",
      "|    0.01142|              0|          4|     -345.0072|       0.30111|     344.82477|      -0.00222|      -0.00311|      -0.00194|           25910|            -108|          -20057|         20057|            -7|         25910|      0.01257|           0.00238|      -0.02716|2.22954|0.00275| 2.2E-4|    0|     0.0|  0.0|  0.0|     0|   0|     4282|  0|               90|    2.0|             0.0|  57.58977|          2.26226|                 0|     4000000.0|          2.0|                    0.0|                    0.0|               0.0|          6|           0.0|            1|   25.17049|     25.17049|     0|    on track|    false|  false|  true|                      84.0|                      84.0|                      89.0|                      89.0|                    84.0|                    84.0|                    89.0|                    89.0|            21.5|            21.5|            23.0|            23.0|         0.0|         0.0|         0.0|         0.0|           0.0|           0.0|           0.0|           0.0|                33.0|                33.0|                33.0|                33.0|             0|             0|             0|             0|\n",
      "+-----------+---------------+-----------+--------------+--------------+--------------+--------------+--------------+--------------+----------------+----------------+----------------+--------------+--------------+--------------+-------------+------------------+--------------+-------+-------+-------+-----+--------+-----+-----+------+----+---------+---+-----------------+-------+----------------+----------+-----------------+------------------+--------------+-------------+-----------------------+-----------------------+------------------+-----------+--------------+-------------+-----------+-------------+------+------------+---------+-------+------+--------------------------+--------------------------+--------------------------+--------------------------+------------------------+------------------------+------------------------+------------------------+----------------+----------------+----------------+----------------+------------+------------+------------+------------+--------------+--------------+--------------+--------------+--------------------+--------------------+--------------------+--------------------+--------------+--------------+--------------+--------------+\n",
      "only showing top 5 rows\n",
      "\n"
     ]
    }
   ],
   "source": [
    "# Making the pit status and resultstatus columns binary instead of String + imputating the Null variables\n",
    "\n",
    "df = df.withColumn(\"inPitArea\", when(col(\"pitStatus\").isNull(), False).otherwise(True))\n",
    "df = df.withColumn(\"pitting\", when(col(\"pitStatus\")==\"pitting\", True).otherwise(False))\n",
    "df = df.withColumn(\"active\", when(col(\"resultStatus\").isNull(), False).otherwise(True))\n",
    "\n",
    "# mapping tyre compounds to integers instead of string\n",
    "\n",
    "df = df.withColumn(\"actualTyreCompound\", when(col(\"actualTyreCompound\")==\"soft\", 0) \\\n",
    "       .when(col(\"actualTyreCompound\")==\"medium\", 1) \\\n",
    "       .when(col(\"actualTyreCompound\")==\"hard\", 2))\n",
    "\n",
    "#Splitting tyre and break columns with this format: FL/FR/RL/RR to 4 columns for each tyre\n",
    "split_bt = split(col(\"brakesTemperature\"), \"/\")\n",
    "split_tst = split(col(\"tyresSurfaceTemperature\"), \"/\")\n",
    "split_tit = split(col(\"tyresInnerTemperature\"), \"/\")\n",
    "split_tp = split(col(\"tyresPressure\"), \"/\")\n",
    "split_st = split(col(\"surfaceType\"), \"/\")\n",
    "split_tw = split(col(\"tyresWear\"), \"/\")\n",
    "split_td = split(col(\"tyresDamage\"), \"/\")\n",
    "\n",
    "# Create new columns for each tyre\n",
    "df = df.withColumn(\"FL_tyresSurfaceTemperature\", split_tst.getItem(0).cast(\"double\")) \\\n",
    "       .withColumn(\"FR_tyresSurfaceTemperature\", split_tst.getItem(1).cast(\"double\")) \\\n",
    "       .withColumn(\"RL_tyresSurfaceTemperature\", split_tst.getItem(2).cast(\"double\")) \\\n",
    "       .withColumn(\"RR_tyresSurfaceTemperature\", split_tst.getItem(3).cast(\"double\")) \\\n",
    "       .withColumn(\"FL_tyresInnerTemperature\", split_tit.getItem(0).cast(\"double\")) \\\n",
    "       .withColumn(\"FR_tyresInnerTemperature\", split_tit.getItem(1).cast(\"double\")) \\\n",
    "       .withColumn(\"RL_tyresInnerTemperature\", split_tit.getItem(2).cast(\"double\")) \\\n",
    "       .withColumn(\"RR_tyresInnerTemperature\", split_tit.getItem(3).cast(\"double\")) \\\n",
    "       .withColumn(\"FL_tyresPressure\", split_tp.getItem(0).cast(\"double\")) \\\n",
    "       .withColumn(\"FR_tyresPressure\", split_tp.getItem(1).cast(\"double\")) \\\n",
    "       .withColumn(\"RL_tyresPressure\", split_tp.getItem(2).cast(\"double\")) \\\n",
    "       .withColumn(\"RR_tyresPressure\", split_tp.getItem(3).cast(\"double\")) \\\n",
    "       .withColumn(\"FL_tyresWear\", split_tw.getItem(0).cast(\"double\")) \\\n",
    "       .withColumn(\"FR_tyresWear\", split_tw.getItem(1).cast(\"double\")) \\\n",
    "       .withColumn(\"RL_tyresWear\", split_tw.getItem(2).cast(\"double\")) \\\n",
    "       .withColumn(\"RR_tyresWear\", split_tw.getItem(3).cast(\"double\")) \\\n",
    "       .withColumn(\"FL_tyresDamage\", split_td.getItem(0).cast(\"double\")) \\\n",
    "       .withColumn(\"FR_tyresDamage\", split_td.getItem(1).cast(\"double\")) \\\n",
    "       .withColumn(\"RL_tyresDamage\", split_td.getItem(2).cast(\"double\")) \\\n",
    "       .withColumn(\"RR_tyresDamage\", split_td.getItem(3).cast(\"double\")) \\\n",
    "       .withColumn(\"FL_brakesTemperature\", split_bt.getItem(0).cast(\"double\")) \\\n",
    "       .withColumn(\"FR_brakesTemperature\", split_bt.getItem(1).cast(\"double\")) \\\n",
    "       .withColumn(\"RL_brakesTemperature\", split_bt.getItem(2).cast(\"double\")) \\\n",
    "       .withColumn(\"RR_brakesTemperature\", split_bt.getItem(3).cast(\"double\")) \\\n",
    "       .withColumn(\"FL_surfaceType\", split_st.getItem(0).cast(\"int\")) \\\n",
    "       .withColumn(\"FR_surfaceType\", split_st.getItem(1).cast(\"int\")) \\\n",
    "       .withColumn(\"RL_surfaceType\", split_st.getItem(2).cast(\"int\")) \\\n",
    "       .withColumn(\"RR_surfaceType\", split_st.getItem(3).cast(\"int\")) \\\n",
    "\n",
    "df = df.drop(\"resultStatus\", \"pitStatus\", \"brakesTemperature\", \"tyresSurfaceTemperature\", \"tyresInnerTemperature\", \"tyresPressure\", \"surfaceType\", \"tyresWear\", \"tyresDamage\")\n",
    "\n",
    "\n",
    "df.show(n=5)"
   ]
  },
  {
   "cell_type": "code",
   "execution_count": 67,
   "metadata": {},
   "outputs": [],
   "source": [
    "#ordering the dataset by pilot and by timestamps\n",
    "\n",
    "df = df.orderBy([\"pilot_index\", \"frameIdentifier\"])"
   ]
  },
  {
   "cell_type": "code",
   "execution_count": 68,
   "metadata": {},
   "outputs": [],
   "source": [
    "#defining a function to calculate the average between values around a null value\n",
    "\n",
    "def interpolate(df, *columns):\n",
    "    window_spec = Window.partitionBy(\"pilot_index\").orderBy(\"frameIdentifier\")\n",
    "    \n",
    "    for column in columns:\n",
    "        df = df.withColumn(\"prev_value\", lag(column).over(window_spec))\n",
    "        df = df.withColumn(\"next_value\", lead(column).over(window_spec))\n",
    "\n",
    "        df = df.withColumn(column, \n",
    "                        when(col(column).isNull(), (col(\"prev_value\") + col(\"next_value\")) / 2)\n",
    "                        .otherwise(col(column))\n",
    "                        )\n",
    "        df = df.drop(\"prev_value\", \"next_value\")\n",
    "    return df"
   ]
  },
  {
   "cell_type": "code",
   "execution_count": null,
   "metadata": {},
   "outputs": [],
   "source": [
    "from pyspark.sql.window import Window\n",
    "from pyspark.sql.functions import last, col\n",
    "import sys\n",
    "\n",
    "# forwardpass funtion\n",
    "def forwardpass(df, *columns):\n",
    "    windowSpec = Window.partitionBy(\"pilot_index\").orderBy(\"frameIdentifier\").rowsBetween(-sys.maxsize, 0)\n",
    "\n",
    "    for column in columns:\n",
    "        df = df.withColumn(\n",
    "            column,  # Name the output column based on the input\n",
    "            last(col(column), ignorenulls=True).over(windowSpec)\n",
    "        )\n",
    "\n",
    "    return df\n",
    "\n",
    "# forwardpass funtion\n",
    "def backwardpass(df, *columns):\n",
    "    windowSpec = Window.partitionBy(\"pilot_index\").orderBy(\"frameIdentifier\").rowsBetween(0, sys.maxsize)\n",
    "\n",
    "    for column in columns:\n",
    "        df = d# Making the pit status and resultstatus columns binary instead of String + imputating the Null variables\n",
    "\n",
    "df = df.withColumn(\"inPitArea\", when(col(\"pitStatus\").isNull(), False).otherwise(True))\n",
    "df = df.withColumn(\"pitting\", when(col(\"pitStatus\")==\"pitting\", True).otherwise(False))\n",
    "df = df.withColumn(\"active\", when(col(\"resultStatus\").isNull(), False).otherwise(True))\n",
    "\n",
    "# mapping tyre compounds to integers instead of string\n",
    "\n",
    "df = df.withColumn(\"actualTyreCompound\", when(col(\"actualTyreCompound\")==\"soft\", 0) \\\n",
    "       .when(col(\"actualTyreCompound\")==\"medium\", 1) \\\n",
    "       .when(col(\"actualTyreCompound\")==\"hard\", 2))\n",
    "\n",
    "#Splitting tyre and break columns with this format: FL/FR/RL/RR to 4 columns for each tyre\n",
    "split_bt = split(col(\"brakesTemperature\"), \"/\")\n",
    "split_tst = split(col(\"tyresSurfaceTemperature\"), \"/\")\n",
    "split_tit = split(col(\"tyresInnerTemperature\"), \"/\")\n",
    "split_tp = split(col(\"tyresPressure\"), \"/\")\n",
    "split_st = split(col(\"surfaceType\"), \"/\")\n",
    "split_tw = split(col(\"tyresWear\"), \"/\")\n",
    "split_td = split(col(\"tyresDamage\"), \"/\")\n",
    "\n",
    "# Create new columns for each tyre\n",
    "df = df.withColumn(\"FL_tyresSurfaceTemperature\", split_tst.getItem(0).cast(\"double\")) \\\n",
    "       .withColumn(\"FR_tyresSurfaceTemperature\", split_tst.getItem(1).cast(\"double\")) \\\n",
    "       .withColumn(\"RL_tyresSurfaceTemperature\", split_tst.getItem(2).cast(\"double\")) \\\n",
    "       .withColumn(\"RR_tyresSurfaceTemperature\", split_tst.getItem(3).cast(\"double\")) \\\n",
    "       .withColumn(\"FL_tyresInnerTemperature\", split_tit.getItem(0).cast(\"double\")) \\\n",
    "       .withColumn(\"FR_tyresInnerTemperature\", split_tit.getItem(1).cast(\"double\")) \\\n",
    "       .withColumn(\"RL_tyresInnerTemperature\", split_tit.getItem(2).cast(\"double\")) \\\n",
    "       .withColumn(\"RR_tyresInnerTemperature\", split_tit.getItem(3).cast(\"double\")) \\\n",
    "       .withColumn(\"FL_tyresPressure\", split_tp.getItem(0).cast(\"double\")) \\\n",
    "       .withColumn(\"FR_tyresPressure\", split_tp.getItem(1).cast(\"double\")) \\\n",
    "       .withColumn(\"RL_tyresPressure\", split_tp.getItem(2).cast(\"double\")) \\\n",
    "       .withColumn(\"RR_tyresPressure\", split_tp.getItem(3).cast(\"double\")) \\\n",
    "       .withColumn(\"FL_tyresWear\", split_tw.getItem(0).cast(\"double\")) \\\n",
    "       .withColumn(\"FR_tyresWear\", split_tw.getItem(1).cast(\"double\")) \\\n",
    "       .withColumn(\"RL_tyresWear\", split_tw.getItem(2).cast(\"double\")) \\\n",
    "       .withColumn(\"RR_tyresWear\", split_tw.getItem(3).cast(\"double\")) \\\n",
    "       .withColumn(\"FL_tyresDamage\", split_td.getItem(0).cast(\"double\")) \\\n",
    "       .withColumn(\"FR_tyresDamage\", split_td.getItem(1).cast(\"double\")) \\\n",
    "       .withColumn(\"RL_tyresDamage\", split_td.getItem(2).cast(\"double\")) \\\n",
    "       .withColumn(\"RR_tyresDamage\", split_td.getItem(3).cast(\"double\")) \\\n",
    "       .withColumn(\"FL_brakesTemperature\", split_bt.getItem(0).cast(\"double\")) \\\n",
    "       .withColumn(\"FR_brakesTemperature\", split_bt.getItem(1).cast(\"double\")) \\\n",
    "       .withColumn(\"RL_brakesTemperature\", split_bt.getItem(2).cast(\"double\")) \\\n",
    "       .withColumn(\"RR_brakesTemperature\", split_bt.getItem(3).cast(\"double\")) \\\n",
    "       .withColumn(\"FL_surfaceType\", split_st.getItem(0).cast(\"int\")) \\\n",
    "       .withColumn(\"FR_surfaceType\", split_st.getItem(1).cast(\"int\")) \\\n",
    "       .withColumn(\"RL_surfaceType\", split_st.getItem(2).cast(\"int\")) \\\n",
    "       .withColumn(\"RR_surfaceType\", split_st.getItem(3).cast(\"int\")) \\\n",
    "\n",
    "df = df.drop(\"resultStatus\", \"pitStatus\", \"brakesTemperature\", \"tyresSurfaceTemperature\", \"tyresInnerTemperature\", \"tyresPressure\", \"surfaceType\", \"tyresWear\", \"tyresDamage\")\n",
    "f.withColumn(\n",
    "            column,  # Name the output column based on the input\n",
    "            last(col(column), ignorenulls=True).over(windowSpec)\n",
    "        )\n",
    "\n",
    "    return df"
   ]
  },
  {
   "cell_type": "code",
   "execution_count": 70,
   "metadata": {},
   "outputs": [],
   "source": [
    "#cetegorical data\n",
    "\n",
    "df = forwardpass(df, \"FL_surfaceType\", \"FR_surfaceType\", \"RL_surfaceType\", \"RR_surfaceType\", \"pitLimiterStatus\", \"actualTyreCompound\", \"drs\", \"gear\", \"ersDeployMode\", \"fuelMix\")\n"
   ]
  },
  {
   "cell_type": "code",
   "execution_count": 71,
   "metadata": {},
   "outputs": [],
   "source": [
    "# numerical data\n",
    "\n",
    "# fixing the function + completing all numerical data\n",
    "\n",
    "df = interpolate(df, \"speed\", \"throttle\", \"steer\", \"brake\", \"clutch\", \"engineRPM\", \"engineTemperature\", \"fuelInTank\", \"fuelRemainingLaps\", \"ersStoreEnergy\", \"ersHarvestedThisLapMGUK\", \"ersHarvestedThisLapMGUH\", \"ersDeployedThisLap\", \"FL_tyresSurfaceTemperature\",\"FR_tyresSurfaceTemperature\",\"RL_tyresSurfaceTemperature\",\"RR_tyresSurfaceTemperature\",\"FL_tyresInnerTemperature\",\"FR_tyresInnerTemperature\",\"RL_tyresInnerTemperature\",\"RR_tyresInnerTemperature\",\"FL_tyresPressure\",\"FR_tyresPressure\",\"RL_tyresPressure\",\"RR_tyresPressure\",\"FL_tyresWear\",\"FR_tyresWear\",\"RL_tyresWear\",\"RR_tyresWear\",\"FL_tyresDamage\",\"FR_tyresDamage\",\"RL_tyresDamage\",\"RR_tyresDamage\",\"FL_brakesTemperature\",\"FR_brakesTemperature\",\"RL_brakesTemperature\",\"RR_brakesTemperature\")"
   ]
  },
  {
   "cell_type": "code",
   "execution_count": 72,
   "metadata": {},
   "outputs": [
    {
     "name": "stderr",
     "output_type": "stream",
     "text": [
      "[Stage 169:==========================================>            (14 + 4) / 18]\r"
     ]
    },
    {
     "name": "stdout",
     "output_type": "stream",
     "text": [
      "+-----------+---------------+-----------+--------------+--------------+--------------+--------------+--------------+--------------+----------------+----------------+----------------+--------------+--------------+--------------+-------------+------------------+--------------+---+-----+----+-----+--------+-----+-----+------+----+---------+---+-----------------+-------+----------------+----------+-----------------+------------------+--------------+-------------+-----------------------+-----------------------+------------------+-----------+--------------+-------------+-----------+-------------+------+------------+---------+-------+------+--------------------------+--------------------------+--------------------------+--------------------------+------------------------+------------------------+------------------------+------------------------+----------------+----------------+----------------+----------------+------------+------------+------------+------------+--------------+--------------+--------------+--------------+--------------------+--------------------+--------------------+--------------------+--------------+--------------+--------------+--------------+\n",
      "|sessionTime|frameIdentifier|pilot_index|worldPositionX|worldPositionY|worldPositionZ|worldVelocityX|worldVelocityY|worldVelocityZ|worldForwardDirX|worldForwardDirY|worldForwardDirZ|worldRightDirX|worldRightDirY|worldRightDirZ|gForceLateral|gForceLongitudinal|gForceVertical|yaw|pitch|roll|speed|throttle|steer|brake|clutch|gear|engineRPM|drs|engineTemperature|fuelMix|pitLimiterStatus|fuelInTank|fuelRemainingLaps|actualTyreCompound|ersStoreEnergy|ersDeployMode|ersHarvestedThisLapMGUK|ersHarvestedThisLapMGUH|ersDeployedThisLap|carPosition|currentLapTime|currentLapNum|lapDistance|totalDistance|sector|driverStatus|inPitArea|pitting|active|FL_tyresSurfaceTemperature|FR_tyresSurfaceTemperature|RL_tyresSurfaceTemperature|RR_tyresSurfaceTemperature|FL_tyresInnerTemperature|FR_tyresInnerTemperature|RL_tyresInnerTemperature|RR_tyresInnerTemperature|FL_tyresPressure|FR_tyresPressure|RL_tyresPressure|RR_tyresPressure|FL_tyresWear|FR_tyresWear|RL_tyresWear|RR_tyresWear|FL_tyresDamage|FR_tyresDamage|RL_tyresDamage|RR_tyresDamage|FL_brakesTemperature|FR_brakesTemperature|RL_brakesTemperature|RR_brakesTemperature|FL_surfaceType|FR_surfaceType|RL_surfaceType|RR_surfaceType|\n",
      "+-----------+---------------+-----------+--------------+--------------+--------------+--------------+--------------+--------------+----------------+----------------+----------------+--------------+--------------+--------------+-------------+------------------+--------------+---+-----+----+-----+--------+-----+-----+------+----+---------+---+-----------------+-------+----------------+----------+-----------------+------------------+--------------+-------------+-----------------------+-----------------------+------------------+-----------+--------------+-------------+-----------+-------------+------+------------+---------+-------+------+--------------------------+--------------------------+--------------------------+--------------------------+------------------------+------------------------+------------------------+------------------------+----------------+----------------+----------------+----------------+------------+------------+------------+------------+--------------+--------------+--------------+--------------+--------------------+--------------------+--------------------+--------------------+--------------+--------------+--------------+--------------+\n",
      "|          0|              0|          0|             0|             0|             0|             0|             0|             0|               0|               0|               0|             0|             0|             0|            0|                 0|             0|  0|    0|   0|    0|       0|    0|    0|     0|   0|        0|  0|                0|      0|               0|         0|                0|                 0|             0|            0|                      0|                      0|                 0|          0|             0|            0|          0|            0|     0|           0|        0|      0|     0|                         0|                         0|                         0|                         0|                       0|                       0|                       0|                       0|               0|               0|               0|               0|           0|           0|           0|           0|             0|             0|             0|             0|                   0|                   0|                   0|                   0|             0|             0|             0|             0|\n",
      "+-----------+---------------+-----------+--------------+--------------+--------------+--------------+--------------+--------------+----------------+----------------+----------------+--------------+--------------+--------------+-------------+------------------+--------------+---+-----+----+-----+--------+-----+-----+------+----+---------+---+-----------------+-------+----------------+----------+-----------------+------------------+--------------+-------------+-----------------------+-----------------------+------------------+-----------+--------------+-------------+-----------+-------------+------+------------+---------+-------+------+--------------------------+--------------------------+--------------------------+--------------------------+------------------------+------------------------+------------------------+------------------------+----------------+----------------+----------------+----------------+------------+------------+------------+------------+--------------+--------------+--------------+--------------+--------------------+--------------------+--------------------+--------------------+--------------+--------------+--------------+--------------+\n",
      "\n"
     ]
    },
    {
     "name": "stderr",
     "output_type": "stream",
     "text": [
      "                                                                                \r"
     ]
    }
   ],
   "source": [
    "# Calculating NULL values per column\n",
    "\n",
    "df.select([sum(when(col(c).isNull(), 1).otherwise(0)).alias(c) for c in df.columns]).show()"
   ]
  },
  {
   "cell_type": "code",
   "execution_count": 16,
   "metadata": {},
   "outputs": [
    {
     "data": {
      "text/plain": [
       "[Row(resultStatus='active'), Row(resultStatus=None)]"
      ]
     },
     "execution_count": 16,
     "metadata": {},
     "output_type": "execute_result"
    }
   ],
   "source": [
    "df.select(\"resultStatus\").distinct().collect()"
   ]
  },
  {
   "cell_type": "code",
   "execution_count": 17,
   "metadata": {},
   "outputs": [
    {
     "data": {
      "text/plain": [
       "8.597040812714594"
      ]
     },
     "execution_count": 17,
     "metadata": {},
     "output_type": "execute_result"
    }
   ],
   "source": [
    "97150*100/df.count()"
   ]
  },
  {
   "cell_type": "code",
   "execution_count": null,
   "metadata": {},
   "outputs": [],
   "source": [
    "'''# Add row numbers within each pilot group\n",
    "df = df.withColumn(\"row_num\", row_number().over(window_spec))\n",
    "\n",
    "# Create chunk IDs (200 frames per chunk)\n",
    "df = df.withColumn(\"chunk_id\", floor((col(\"row_num\") - 1) / 200))\n",
    "\n",
    "# Save as partitioned Parquet files\n",
    "df.write.partitionBy(\"pilot_index\", \"chunk_id\").parquet(\"output_chunks\")'''\n"
   ]
  },
  {
   "cell_type": "code",
   "execution_count": null,
   "metadata": {},
   "outputs": [],
   "source": [
    "'''df.show(5)'''"
   ]
  },
  {
   "cell_type": "code",
   "execution_count": null,
   "metadata": {},
   "outputs": [],
   "source": [
    "def cleanDataSet(df):\n",
    "    # Making the pit status and resultstatus columns binary instead of String + imputating the Null variables\n",
    "\n",
    "    df = df.withColumn(\"inPitArea\", when(col(\"pitStatus\").isNull(), False).otherwise(True))\n",
    "    df = df.withColumn(\"pitting\", when(col(\"pitStatus\")==\"pitting\", True).otherwise(False))\n",
    "    df = df.withColumn(\"active\", when(col(\"resultStatus\").isNull(), False).otherwise(True))\n",
    "\n",
    "    # mapping tyre compounds to integers instead of string\n",
    "\n",
    "    df = df.withColumn(\"actualTyreCompound\", when(col(\"actualTyreCompound\")==\"soft\", 0) \\\n",
    "        .when(col(\"actualTyreCompound\")==\"medium\", 1) \\\n",
    "        .when(col(\"actualTyreCompound\")==\"hard\", 2))\n",
    "\n",
    "    #Splitting tyre and break columns with this format: FL/FR/RL/RR to 4 columns for each tyre\n",
    "    split_bt = split(col(\"brakesTemperature\"), \"/\")\n",
    "    split_tst = split(col(\"tyresSurfaceTemperature\"), \"/\")\n",
    "    split_tit = split(col(\"tyresInnerTemperature\"), \"/\")\n",
    "    split_tp = split(col(\"tyresPressure\"), \"/\")\n",
    "    split_st = split(col(\"surfaceType\"), \"/\")\n",
    "    split_tw = split(col(\"tyresWear\"), \"/\")\n",
    "    split_td = split(col(\"tyresDamage\"), \"/\")\n",
    "\n",
    "    # Create new columns for each tyre\n",
    "    df = df.withColumn(\"FL_tyresSurfaceTemperature\", split_tst.getItem(0).cast(\"double\")) \\\n",
    "        .withColumn(\"FR_tyresSurfaceTemperature\", split_tst.getItem(1).cast(\"double\")) \\\n",
    "        .withColumn(\"RL_tyresSurfaceTemperature\", split_tst.getItem(2).cast(\"double\")) \\\n",
    "        .withColumn(\"RR_tyresSurfaceTemperature\", split_tst.getItem(3).cast(\"double\")) \\\n",
    "        .withColumn(\"FL_tyresInnerTemperature\", split_tit.getItem(0).cast(\"double\")) \\\n",
    "        .withColumn(\"FR_tyresInnerTemperature\", split_tit.getItem(1).cast(\"double\")) \\\n",
    "        .withColumn(\"RL_tyresInnerTemperature\", split_tit.getItem(2).cast(\"double\")) \\\n",
    "        .withColumn(\"RR_tyresInnerTemperature\", split_tit.getItem(3).cast(\"double\")) \\\n",
    "        .withColumn(\"FL_tyresPressure\", split_tp.getItem(0).cast(\"double\")) \\\n",
    "        .withColumn(\"FR_tyresPressure\", split_tp.getItem(1).cast(\"double\")) \\\n",
    "        .withColumn(\"RL_tyresPressure\", split_tp.getItem(2).cast(\"double\")) \\\n",
    "        .withColumn(\"RR_tyresPressure\", split_tp.getItem(3).cast(\"double\")) \\\n",
    "        .withColumn(\"FL_tyresWear\", split_tw.getItem(0).cast(\"double\")) \\\n",
    "        .withColumn(\"FR_tyresWear\", split_tw.getItem(1).cast(\"double\")) \\\n",
    "        .withColumn(\"RL_tyresWear\", split_tw.getItem(2).cast(\"double\")) \\\n",
    "        .withColumn(\"RR_tyresWear\", split_tw.getItem(3).cast(\"double\")) \\\n",
    "        .withColumn(\"FL_tyresDamage\", split_td.getItem(0).cast(\"double\")) \\\n",
    "        .withColumn(\"FR_tyresDamage\", split_td.getItem(1).cast(\"double\")) \\\n",
    "        .withColumn(\"RL_tyresDamage\", split_td.getItem(2).cast(\"double\")) \\\n",
    "        .withColumn(\"RR_tyresDamage\", split_td.getItem(3).cast(\"double\")) \\\n",
    "        .withColumn(\"FL_brakesTemperature\", split_bt.getItem(0).cast(\"double\")) \\\n",
    "        .withColumn(\"FR_brakesTemperature\", split_bt.getItem(1).cast(\"double\")) \\\n",
    "        .withColumn(\"RL_brakesTemperature\", split_bt.getItem(2).cast(\"double\")) \\\n",
    "        .withColumn(\"RR_brakesTemperature\", split_bt.getItem(3).cast(\"double\")) \\\n",
    "        .withColumn(\"FL_surfaceType\", split_st.getItem(0).cast(\"int\")) \\\n",
    "        .withColumn(\"FR_surfaceType\", split_st.getItem(1).cast(\"int\")) \\\n",
    "        .withColumn(\"RL_surfaceType\", split_st.getItem(2).cast(\"int\")) \\\n",
    "        .withColumn(\"RR_surfaceType\", split_st.getItem(3).cast(\"int\")) \\\n",
    "\n",
    "    df = df.drop(\"resultStatus\", \"pitStatus\", \"brakesTemperature\", \"tyresSurfaceTemperature\", \"tyresInnerTemperature\", \"tyresPressure\", \"surfaceType\", \"tyresWear\", \"tyresDamage\")\n"
   ]
  },
  {
   "cell_type": "code",
   "execution_count": 7,
   "metadata": {},
   "outputs": [],
   "source": [
    "def datasetDev(dataFilePath):\n",
    "    df = spark.read.csv(dataFilePath, header=True, inferSchema=True)\n",
    "\n",
    "    gp_id = re.search(r'_(\\d+)', dataFilePath).group(1)\n",
    "\n",
    "    df = df.orderBy([\"pilot_index\", \"frameIdentifier\"])\n",
    "\n",
    "    window_spec = Window.partitionBy(\"pilot_index\").orderBy(\"frameIdentifier\")\n",
    "\n",
    "    df = df.withColumn(\"row_num\", row_number().over(window_spec))\n",
    "\n",
    "    # Create chunk IDs (200 frames per chunk)\n",
    "    df = df.withColumn(\"chunk_id\", floor((col(\"row_num\") - 1) / 200))\n",
    "\n",
    "    # Save as partitioned Parquet files\n",
    "    df.write.mode(\"overwrite\").partitionBy(\"pilot_index\", \"chunk_id\").option(\"header\", \"true\").csv(\"telemetrydata/\"+gp_id)"
   ]
  },
  {
   "cell_type": "code",
   "execution_count": 8,
   "metadata": {},
   "outputs": [
    {
     "name": "stderr",
     "output_type": "stream",
     "text": [
      "25/04/01 21:27:35 WARN SparkStringUtils: Truncated the string representation of a plan since it was too large. This behavior can be adjusted by setting 'spark.sql.debug.maxToStringFields'.\n",
      "                                                                                \r"
     ]
    }
   ],
   "source": [
    "for i in os.listdir(\"f1-2020-race-data\"):\n",
    "    if \"Telemetry\" in i:\n",
    "        datasetDev(\"f1-2020-race-data/\"+i)"
   ]
  },
  {
   "cell_type": "code",
   "execution_count": 9,
   "metadata": {},
   "outputs": [],
   "source": [
    "\n",
    "# Stop Spark session\n",
    "spark.stop()"
   ]
  },
  {
   "cell_type": "code",
   "execution_count": 25,
   "metadata": {},
   "outputs": [],
   "source": [
    "import os\n",
    "import re\n",
    "\n",
    "base_dir = \"telemetrydata\"\n",
    "parquet_data = []\n",
    "pattern = r\"\\d+\"\n",
    "\n",
    "#catch all details [driver number, session number, chunk number] so that we can define he file name with these caracterestics\n",
    "\n",
    "for i in os.scandir(base_dir):\n",
    "    if i.is_dir():\n",
    "        #print(i.name)\n",
    "        for j in os.scandir(i.path):\n",
    "            if j.is_dir():\n",
    "                #print('-------'+re.findall(pattern, str(j.name))[0])\n",
    "                for k in os.scandir(j.path):\n",
    "                    if k.is_dir():\n",
    "                        #print('--'+re.findall(pattern, str(k.name))[0])\n",
    "                        for l in os.scandir(k.path):\n",
    "                            if l.is_file() and l.name.endswith(\".csv\"):\n",
    "                                parquet_data.append([i.name, re.findall(pattern, str(j.name))[0], re.findall(pattern, str(k.name))[0], l.path])\n",
    "\n",
    "#print(f\"Found {len(parquet_data)} .parquet files\")"
   ]
  },
  {
   "cell_type": "code",
   "execution_count": 26,
   "metadata": {},
   "outputs": [],
   "source": [
    "wearhouse = \"CSVTelemetryWearhouse\"\n",
    "\n",
    "def copy_file(file_path):\n",
    "    shutil.copy2(file_path[3], wearhouse+\"/\"+file_path[0]+\"_\"+file_path[1]+\"_\"+file_path[2]+\".csv\")\n",
    "\n",
    "\n",
    "os.makedirs(wearhouse, exist_ok=True)\n",
    "with ThreadPoolExecutor(max_workers=4) as executor:\n",
    "    executor.map(copy_file, parquet_data)\n",
    "\n",
    "#shutil.rmtree(\"/home/gesser/Documents/f1tele/telemetrydata\")"
   ]
  },
  {
   "cell_type": "code",
   "execution_count": 9,
   "metadata": {},
   "outputs": [
    {
     "name": "stdout",
     "output_type": "stream",
     "text": [
      "396\n"
     ]
    }
   ],
   "source": [
    "print(len(os.listdir(wearhouse)))"
   ]
  },
  {
   "cell_type": "code",
   "execution_count": 5,
   "metadata": {},
   "outputs": [],
   "source": [
    "shutil.rmtree('CSVTelemetryWearhouse')"
   ]
  },
  {
   "cell_type": "markdown",
   "metadata": {},
   "source": [
    "----------------------------------------------------------------------------------------------------------------------------"
   ]
  },
  {
   "cell_type": "code",
   "execution_count": 17,
   "metadata": {},
   "outputs": [
    {
     "name": "stderr",
     "output_type": "stream",
     "text": [
      "                                                                                \r"
     ]
    }
   ],
   "source": [
    "import torch\n",
    "import numpy as np\n",
    "\n",
    "# Collecting data into a NumPy array\n",
    "# Since the surface types are already integers, we select only the relevant columns\n",
    "data = np.array(df.select(\"FL_surfaceType\").collect())\n"
   ]
  },
  {
   "cell_type": "code",
   "execution_count": 57,
   "metadata": {},
   "outputs": [
    {
     "name": "stderr",
     "output_type": "stream",
     "text": [
      "[Stage 171:>                                                      (0 + 16) / 16]\r"
     ]
    },
    {
     "name": "stdout",
     "output_type": "stream",
     "text": [
      "+-----------+---------------+--------------+\n",
      "|pilot_index|frameIdentifier|FL_surfaceType|\n",
      "+-----------+---------------+--------------+\n",
      "|0          |0              |0             |\n",
      "|0          |1              |0             |\n",
      "|0          |2              |0             |\n",
      "|0          |3              |0             |\n",
      "|0          |4              |0             |\n",
      "|0          |5              |0             |\n",
      "|0          |6              |0             |\n",
      "|0          |7              |0             |\n",
      "|0          |8              |0             |\n",
      "|0          |9              |0             |\n",
      "|0          |10             |0             |\n",
      "|0          |12             |0             |\n",
      "|0          |13             |0             |\n",
      "|0          |14             |0             |\n",
      "|0          |15             |0             |\n",
      "|0          |16             |0             |\n",
      "|0          |17             |0             |\n",
      "|0          |18             |0             |\n",
      "|0          |19             |0             |\n",
      "|0          |20             |0             |\n",
      "+-----------+---------------+--------------+\n",
      "only showing top 20 rows\n",
      "\n"
     ]
    },
    {
     "name": "stderr",
     "output_type": "stream",
     "text": [
      "                                                                                \r"
     ]
    }
   ],
   "source": [
    "df.select(\"pilot_index\", \"frameIdentifier\", \"FL_surfaceType\").show(20, False)\n"
   ]
  },
  {
   "cell_type": "code",
   "execution_count": 18,
   "metadata": {},
   "outputs": [
    {
     "name": "stderr",
     "output_type": "stream",
     "text": [
      "[Stage 42:>                                                         (0 + 4) / 4]\r"
     ]
    },
    {
     "name": "stdout",
     "output_type": "stream",
     "text": [
      "+--------------+-------+\n",
      "|FL_surfaceType|  count|\n",
      "+--------------+-------+\n",
      "|             1|  54604|\n",
      "|             7|    209|\n",
      "|             2|  12095|\n",
      "|             0|1063132|\n",
      "+--------------+-------+\n",
      "\n"
     ]
    },
    {
     "name": "stderr",
     "output_type": "stream",
     "text": [
      "                                                                                \r"
     ]
    }
   ],
   "source": [
    "# Show unique values in each surface type column\n",
    "# Count the number of occurrences of each unique value in the column\n",
    "df.groupBy(\"FL_surfaceType\").count().show()\n"
   ]
  },
  {
   "cell_type": "code",
   "execution_count": null,
   "metadata": {},
   "outputs": [],
   "source": [
    "\n",
    "# Convert to torch tensor\n",
    "X = torch.tensor(data, dtype=torch.float64)  # Ensure the input tensor is of type 'long' for embedding layers"
   ]
  }
 ],
 "metadata": {
  "kernelspec": {
   "display_name": "data",
   "language": "python",
   "name": "python3"
  },
  "language_info": {
   "codemirror_mode": {
    "name": "ipython",
    "version": 3
   },
   "file_extension": ".py",
   "mimetype": "text/x-python",
   "name": "python",
   "nbconvert_exporter": "python",
   "pygments_lexer": "ipython3",
   "version": "3.12.3"
  }
 },
 "nbformat": 4,
 "nbformat_minor": 2
}
